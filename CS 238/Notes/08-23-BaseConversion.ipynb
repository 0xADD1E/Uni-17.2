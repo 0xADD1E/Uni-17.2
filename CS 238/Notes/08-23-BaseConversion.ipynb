{
 "cells": [
  {
   "cell_type": "code",
   "execution_count": 1,
   "metadata": {},
   "outputs": [],
   "source": [
    "import math\n",
    "def decToBin(n):\n",
    "    return ''.join(_decToBin(n, []))\n",
    "def _decToBin(n, wip):\n",
    "    print('n: {}; str: \"{}\"'.format(n, ''.join(wip)))\n",
    "    wip.append(str(n%2))\n",
    "    n = math.floor(n/2)\n",
    "    if n == 0: return reversed(wip)\n",
    "    return _decToBin(n, wip)\n",
    "def binToDec(n):\n",
    "    subtotal = 0\n",
    "    for i in enumerate(reversed(n)):\n",
    "        base, value = i\n",
    "        base = 2**base\n",
    "        value = int(value)\n",
    "        print('base: {}; value: {}, subtotal: {}'.format(base, value, subtotal))\n",
    "        subtotal += base*value\n",
    "    return subtotal"
   ]
  },
  {
   "cell_type": "code",
   "execution_count": 2,
   "metadata": {},
   "outputs": [
    {
     "name": "stdout",
     "output_type": "stream",
     "text": [
      "n: 53; str: \"\"\n",
      "n: 26; str: \"1\"\n",
      "n: 13; str: \"10\"\n",
      "n: 6; str: \"101\"\n",
      "n: 3; str: \"1010\"\n",
      "n: 1; str: \"10101\"\n"
     ]
    },
    {
     "data": {
      "text/plain": [
       "'110101'"
      ]
     },
     "execution_count": 2,
     "metadata": {},
     "output_type": "execute_result"
    }
   ],
   "source": [
    "decToBin(53)"
   ]
  },
  {
   "cell_type": "code",
   "execution_count": 3,
   "metadata": {},
   "outputs": [
    {
     "name": "stdout",
     "output_type": "stream",
     "text": [
      "n: 3077; str: \"\"\n",
      "n: 1538; str: \"1\"\n",
      "n: 769; str: \"10\"\n",
      "n: 384; str: \"101\"\n",
      "n: 192; str: \"1010\"\n",
      "n: 96; str: \"10100\"\n",
      "n: 48; str: \"101000\"\n",
      "n: 24; str: \"1010000\"\n",
      "n: 12; str: \"10100000\"\n",
      "n: 6; str: \"101000000\"\n",
      "n: 3; str: \"1010000000\"\n",
      "n: 1; str: \"10100000001\"\n"
     ]
    },
    {
     "data": {
      "text/plain": [
       "'110000000101'"
      ]
     },
     "execution_count": 3,
     "metadata": {},
     "output_type": "execute_result"
    }
   ],
   "source": [
    "decToBin(3077)"
   ]
  },
  {
   "cell_type": "code",
   "execution_count": 4,
   "metadata": {},
   "outputs": [
    {
     "name": "stdout",
     "output_type": "stream",
     "text": [
      "base: 1; value: 1, subtotal: 0\n",
      "base: 2; value: 0, subtotal: 1\n",
      "base: 4; value: 1, subtotal: 1\n",
      "base: 8; value: 0, subtotal: 5\n",
      "base: 16; value: 1, subtotal: 5\n",
      "base: 32; value: 1, subtotal: 21\n"
     ]
    },
    {
     "data": {
      "text/plain": [
       "53"
      ]
     },
     "execution_count": 4,
     "metadata": {},
     "output_type": "execute_result"
    }
   ],
   "source": [
    "binToDec('110101')"
   ]
  },
  {
   "cell_type": "code",
   "execution_count": null,
   "metadata": {},
   "outputs": [],
   "source": []
  }
 ],
 "metadata": {
  "kernelspec": {
   "display_name": "Python 3",
   "language": "python",
   "name": "python3"
  },
  "language_info": {
   "codemirror_mode": {
    "name": "ipython",
    "version": 3
   },
   "file_extension": ".py",
   "mimetype": "text/x-python",
   "name": "python",
   "nbconvert_exporter": "python",
   "pygments_lexer": "ipython3",
   "version": "3.6.2"
  }
 },
 "nbformat": 4,
 "nbformat_minor": 2
}
