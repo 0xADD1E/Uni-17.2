{
 "cells": [
  {
   "cell_type": "markdown",
   "metadata": {},
   "source": [
    "# Question 1"
   ]
  },
  {
   "cell_type": "code",
   "execution_count": 1,
   "metadata": {},
   "outputs": [
    {
     "data": {
      "text/html": [
       "<div>\n",
       "<table border=\"1\" class=\"dataframe\">\n",
       "  <thead>\n",
       "    <tr style=\"text-align: right;\">\n",
       "      <th></th>\n",
       "      <th>Decimal</th>\n",
       "      <th>Binary</th>\n",
       "      <th>Hex</th>\n",
       "    </tr>\n",
       "  </thead>\n",
       "  <tbody>\n",
       "    <tr>\n",
       "      <th>0</th>\n",
       "      <td>59020</td>\n",
       "      <td>0b1110011010001100</td>\n",
       "      <td>0xe68c</td>\n",
       "    </tr>\n",
       "    <tr>\n",
       "      <th>1</th>\n",
       "      <td>567</td>\n",
       "      <td>0b1000110111</td>\n",
       "      <td>0x237</td>\n",
       "    </tr>\n",
       "    <tr>\n",
       "      <th>2</th>\n",
       "      <td>4071</td>\n",
       "      <td>0b111111100111</td>\n",
       "      <td>0xfe7</td>\n",
       "    </tr>\n",
       "    <tr>\n",
       "      <th>3</th>\n",
       "      <td>8888</td>\n",
       "      <td>0b10001010111000</td>\n",
       "      <td>0x22b8</td>\n",
       "    </tr>\n",
       "    <tr>\n",
       "      <th>4</th>\n",
       "      <td>1025</td>\n",
       "      <td>0b10000000001</td>\n",
       "      <td>0x401</td>\n",
       "    </tr>\n",
       "    <tr>\n",
       "      <th>5</th>\n",
       "      <td>11039</td>\n",
       "      <td>0b10101100011111</td>\n",
       "      <td>0x2b1f</td>\n",
       "    </tr>\n",
       "    <tr>\n",
       "      <th>6</th>\n",
       "      <td>4388</td>\n",
       "      <td>0b1000100100100</td>\n",
       "      <td>0x1124</td>\n",
       "    </tr>\n",
       "    <tr>\n",
       "      <th>7</th>\n",
       "      <td>3290</td>\n",
       "      <td>0b110011011010</td>\n",
       "      <td>0xcda</td>\n",
       "    </tr>\n",
       "    <tr>\n",
       "      <th>8</th>\n",
       "      <td>27603</td>\n",
       "      <td>0b110101111010011</td>\n",
       "      <td>0x6bd3</td>\n",
       "    </tr>\n",
       "    <tr>\n",
       "      <th>9</th>\n",
       "      <td>49215</td>\n",
       "      <td>0b1100000000111111</td>\n",
       "      <td>0xc03f</td>\n",
       "    </tr>\n",
       "    <tr>\n",
       "      <th>10</th>\n",
       "      <td>1454</td>\n",
       "      <td>0b10110101110</td>\n",
       "      <td>0x5ae</td>\n",
       "    </tr>\n",
       "    <tr>\n",
       "      <th>11</th>\n",
       "      <td>34952</td>\n",
       "      <td>0b1000100010001000</td>\n",
       "      <td>0x8888</td>\n",
       "    </tr>\n",
       "  </tbody>\n",
       "</table>\n",
       "</div>"
      ],
      "text/plain": [
       "    Decimal              Binary     Hex\n",
       "0     59020  0b1110011010001100  0xe68c\n",
       "1       567        0b1000110111   0x237\n",
       "2      4071      0b111111100111   0xfe7\n",
       "3      8888    0b10001010111000  0x22b8\n",
       "4      1025       0b10000000001   0x401\n",
       "5     11039    0b10101100011111  0x2b1f\n",
       "6      4388     0b1000100100100  0x1124\n",
       "7      3290      0b110011011010   0xcda\n",
       "8     27603   0b110101111010011  0x6bd3\n",
       "9     49215  0b1100000000111111  0xc03f\n",
       "10     1454       0b10110101110   0x5ae\n",
       "11    34952  0b1000100010001000  0x8888"
      ]
     },
     "execution_count": 1,
     "metadata": {},
     "output_type": "execute_result"
    }
   ],
   "source": [
    "import pandas as pd\n",
    "ins = [59020, \n",
    "       567, \n",
    "       4071, \n",
    "       8888,\n",
    "       0b10000000001,\n",
    "       0b10101100011111,\n",
    "       0b1000100100100, \n",
    "       0b110011011010, \n",
    "       0x6BD3, \n",
    "       0xC03F,\n",
    "       0x5AE,\n",
    "       0x8888]\n",
    "out = []\n",
    "for i in ins:\n",
    "    out.append([i, bin(i), hex(i)])\n",
    "pd.DataFrame(out, columns = ['Decimal','Binary','Hex'])"
   ]
  },
  {
   "cell_type": "markdown",
   "metadata": {},
   "source": [
    "# Question 2"
   ]
  },
  {
   "cell_type": "markdown",
   "metadata": {},
   "source": [
    "## Part A"
   ]
  },
  {
   "cell_type": "code",
   "execution_count": 2,
   "metadata": {},
   "outputs": [
    {
     "data": {
      "text/plain": [
       "18529"
      ]
     },
     "execution_count": 2,
     "metadata": {},
     "output_type": "execute_result"
    }
   ],
   "source": [
    "0x4861"
   ]
  },
  {
   "cell_type": "code",
   "execution_count": 3,
   "metadata": {},
   "outputs": [
    {
     "data": {
      "text/plain": [
       "'Ha'"
      ]
     },
     "execution_count": 3,
     "metadata": {},
     "output_type": "execute_result"
    }
   ],
   "source": [
    "chr(0x48) + chr(0x61)"
   ]
  },
  {
   "cell_type": "markdown",
   "metadata": {},
   "source": [
    "## Part B"
   ]
  },
  {
   "cell_type": "code",
   "execution_count": 4,
   "metadata": {},
   "outputs": [
    {
     "data": {
      "text/plain": [
       "13867"
      ]
     },
     "execution_count": 4,
     "metadata": {},
     "output_type": "execute_result"
    }
   ],
   "source": [
    "0x362B"
   ]
  },
  {
   "cell_type": "code",
   "execution_count": 5,
   "metadata": {},
   "outputs": [
    {
     "data": {
      "text/plain": [
       "'6+'"
      ]
     },
     "execution_count": 5,
     "metadata": {},
     "output_type": "execute_result"
    }
   ],
   "source": [
    "chr(0x36) + chr(0x2B)"
   ]
  },
  {
   "cell_type": "markdown",
   "metadata": {},
   "source": [
    "# Question 3"
   ]
  },
  {
   "cell_type": "code",
   "execution_count": 6,
   "metadata": {},
   "outputs": [],
   "source": [
    "def toAsc(x):\n",
    "    out = []\n",
    "    for c in x:\n",
    "        out.append(str(ord(c)))\n",
    "    return ' '.join(out)"
   ]
  },
  {
   "cell_type": "markdown",
   "metadata": {},
   "source": [
    "## Part A"
   ]
  },
  {
   "cell_type": "code",
   "execution_count": 7,
   "metadata": {},
   "outputs": [
    {
     "data": {
      "text/plain": [
       "'82 97 106 105 118 32 66 97 103 97 105 32 114 111 99 107 115 33 33'"
      ]
     },
     "execution_count": 7,
     "metadata": {},
     "output_type": "execute_result"
    }
   ],
   "source": [
    "toAsc('Rajiv Bagai rocks!!')"
   ]
  },
  {
   "cell_type": "markdown",
   "metadata": {},
   "source": [
    "## Part B"
   ]
  },
  {
   "cell_type": "code",
   "execution_count": 8,
   "metadata": {},
   "outputs": [
    {
     "data": {
      "text/plain": [
       "'50 49 32 43 32 52 55 32 8211 32 50 54 32 61 32 63 63'"
      ]
     },
     "execution_count": 8,
     "metadata": {},
     "output_type": "execute_result"
    }
   ],
   "source": [
    "toAsc('21 + 47 – 26 = ??')"
   ]
  },
  {
   "cell_type": "code",
   "execution_count": null,
   "metadata": {},
   "outputs": [],
   "source": []
  }
 ],
 "metadata": {
  "kernelspec": {
   "display_name": "Python 3",
   "language": "python",
   "name": "python3"
  },
  "language_info": {
   "codemirror_mode": {
    "name": "ipython",
    "version": 3
   },
   "file_extension": ".py",
   "mimetype": "text/x-python",
   "name": "python",
   "nbconvert_exporter": "python",
   "pygments_lexer": "ipython3",
   "version": "3.6.2"
  }
 },
 "nbformat": 4,
 "nbformat_minor": 2
}
