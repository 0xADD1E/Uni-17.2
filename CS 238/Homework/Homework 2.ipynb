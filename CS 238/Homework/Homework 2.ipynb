{
 "cells": [
  {
   "cell_type": "markdown",
   "metadata": {},
   "source": [
    "# Homework 2\n",
    "Addie Morrison"
   ]
  },
  {
   "cell_type": "code",
   "execution_count": 1,
   "metadata": {
    "collapsed": true
   },
   "outputs": [],
   "source": [
    "def compliment(x, width):\n",
    "    pad = bin(x).replace('-', '')[2:].rjust(width, '0')\n",
    "    if x > 0: return pad\n",
    "    print(pad)\n",
    "    replace = pad.replace('1', 'x').replace('0', '1').replace('x', '0')\n",
    "    print(replace)\n",
    "    num = bin(int(replace, 2) + 1)[2:]\n",
    "    print(num)\n",
    "    trim = num[len(num)-width:]\n",
    "    print(trim)\n",
    "    return trim\n",
    "    "
   ]
  },
  {
   "cell_type": "markdown",
   "metadata": {},
   "source": [
    "## Problem 1"
   ]
  },
  {
   "cell_type": "code",
   "execution_count": 2,
   "metadata": {},
   "outputs": [
    {
     "data": {
      "text/plain": [
       "'00000000000011110100011000101001'"
      ]
     },
     "execution_count": 2,
     "metadata": {},
     "output_type": "execute_result"
    }
   ],
   "source": [
    "# A\n",
    "compliment(1001001, 32)"
   ]
  },
  {
   "cell_type": "code",
   "execution_count": 3,
   "metadata": {},
   "outputs": [
    {
     "name": "stdout",
     "output_type": "stream",
     "text": [
      "00000000000000001101100100000011\n",
      "11111111111111110010011011111100\n",
      "11111111111111110010011011111101\n",
      "11111111111111110010011011111101\n"
     ]
    },
    {
     "data": {
      "text/plain": [
       "'11111111111111110010011011111101'"
      ]
     },
     "execution_count": 3,
     "metadata": {},
     "output_type": "execute_result"
    }
   ],
   "source": [
    "# B\n",
    "compliment(-55555, 32)"
   ]
  },
  {
   "cell_type": "code",
   "execution_count": 4,
   "metadata": {},
   "outputs": [
    {
     "name": "stdout",
     "output_type": "stream",
     "text": [
      "00000000000000000000000000000111\n",
      "11111111111111111111111111111000\n",
      "11111111111111111111111111111001\n",
      "11111111111111111111111111111001\n"
     ]
    },
    {
     "data": {
      "text/plain": [
       "'11111111111111111111111111111001'"
      ]
     },
     "execution_count": 4,
     "metadata": {},
     "output_type": "execute_result"
    }
   ],
   "source": [
    "# C\n",
    "compliment(-7, 32)"
   ]
  },
  {
   "cell_type": "markdown",
   "metadata": {},
   "source": [
    "## Problem 2"
   ]
  },
  {
   "cell_type": "code",
   "execution_count": 5,
   "metadata": {},
   "outputs": [
    {
     "data": {
      "text/plain": [
       "'0000010111011100'"
      ]
     },
     "execution_count": 5,
     "metadata": {},
     "output_type": "execute_result"
    }
   ],
   "source": [
    "# A\n",
    "compliment(1500, 16)"
   ]
  },
  {
   "cell_type": "code",
   "execution_count": 6,
   "metadata": {},
   "outputs": [
    {
     "name": "stdout",
     "output_type": "stream",
     "text": [
      "0000011110000011\n",
      "1111100001111100\n",
      "1111100001111101\n",
      "1111100001111101\n"
     ]
    },
    {
     "data": {
      "text/plain": [
       "'1111100001111101'"
      ]
     },
     "execution_count": 6,
     "metadata": {},
     "output_type": "execute_result"
    }
   ],
   "source": [
    "# B\n",
    "compliment(-1923, 16)"
   ]
  },
  {
   "cell_type": "code",
   "execution_count": 7,
   "metadata": {},
   "outputs": [
    {
     "name": "stdout",
     "output_type": "stream",
     "text": [
      "0111111111111101\n",
      "1000000000000010\n",
      "1000000000000011\n",
      "1000000000000011\n"
     ]
    },
    {
     "data": {
      "text/plain": [
       "'1000000000000011'"
      ]
     },
     "execution_count": 7,
     "metadata": {},
     "output_type": "execute_result"
    }
   ],
   "source": [
    "# C\n",
    "compliment(-32765, 16)"
   ]
  },
  {
   "cell_type": "markdown",
   "metadata": {},
   "source": [
    "## Problem 3"
   ]
  },
  {
   "cell_type": "code",
   "execution_count": 8,
   "metadata": {},
   "outputs": [
    {
     "name": "stdout",
     "output_type": "stream",
     "text": [
      "00110111\n",
      "11001000\n",
      "11001001\n",
      "11001001\n"
     ]
    },
    {
     "data": {
      "text/plain": [
       "'11001001'"
      ]
     },
     "execution_count": 8,
     "metadata": {},
     "output_type": "execute_result"
    }
   ],
   "source": [
    "# A\n",
    "compliment(-55, 8)"
   ]
  },
  {
   "cell_type": "code",
   "execution_count": 9,
   "metadata": {},
   "outputs": [
    {
     "data": {
      "text/plain": [
       "'01000010'"
      ]
     },
     "execution_count": 9,
     "metadata": {},
     "output_type": "execute_result"
    }
   ],
   "source": [
    "# B\n",
    "compliment(66, 8)"
   ]
  },
  {
   "cell_type": "markdown",
   "metadata": {},
   "source": [
    "## Problem 4"
   ]
  },
  {
   "cell_type": "code",
   "execution_count": 10,
   "metadata": {},
   "outputs": [],
   "source": [
    "from collections import namedtuple\n",
    "interpretationSet = namedtuple('InterpretationSet', 'unsigned compliment')\n",
    "def unCompliment(x, width):\n",
    "    num = bin(x - 1)[2:].rjust(width, '0')\n",
    "    replace = num.replace('0', 'x').replace('1', '0').replace('x', '1')\n",
    "    return int(replace, 2)\n",
    "def interpret(x, width):\n",
    "    unsigned = bin(x)[2:].rjust(width, '0')\n",
    "    signed = bin(unCompliment(x, width))[2:]\n",
    "    return interpretationSet(unsigned, signed)"
   ]
  },
  {
   "cell_type": "code",
   "execution_count": 11,
   "metadata": {},
   "outputs": [
    {
     "data": {
      "text/plain": [
       "InterpretationSet(unsigned='00000000000000001110001111110001', compliment='11111111111111110001110000001111')"
      ]
     },
     "execution_count": 11,
     "metadata": {},
     "output_type": "execute_result"
    }
   ],
   "source": [
    "# A\n",
    "interpret(0x0000E3F1, 32)"
   ]
  },
  {
   "cell_type": "code",
   "execution_count": 12,
   "metadata": {},
   "outputs": [
    {
     "data": {
      "text/plain": [
       "InterpretationSet(unsigned='01010110001010110111111100011110', compliment='10101001110101001000000011100010')"
      ]
     },
     "execution_count": 12,
     "metadata": {},
     "output_type": "execute_result"
    }
   ],
   "source": [
    "# B\n",
    "interpret(0x562B7F1E, 32)"
   ]
  },
  {
   "cell_type": "markdown",
   "metadata": {},
   "source": [
    "## Problem 5"
   ]
  },
  {
   "cell_type": "code",
   "execution_count": 13,
   "metadata": {},
   "outputs": [
    {
     "data": {
      "text/plain": [
       "InterpretationSet(unsigned='1010101100000101', compliment='101010011111011')"
      ]
     },
     "execution_count": 13,
     "metadata": {},
     "output_type": "execute_result"
    }
   ],
   "source": [
    "# A\n",
    "interpret(0xAB05, 16)"
   ]
  },
  {
   "cell_type": "code",
   "execution_count": 14,
   "metadata": {},
   "outputs": [
    {
     "data": {
      "text/plain": [
       "InterpretationSet(unsigned='0011010111010010', compliment='1100101000101110')"
      ]
     },
     "execution_count": 14,
     "metadata": {},
     "output_type": "execute_result"
    }
   ],
   "source": [
    "# B\n",
    "interpret(0x35D2, 16)"
   ]
  },
  {
   "cell_type": "markdown",
   "metadata": {},
   "source": [
    "## Problem 6"
   ]
  },
  {
   "cell_type": "code",
   "execution_count": 15,
   "metadata": {},
   "outputs": [
    {
     "data": {
      "text/plain": [
       "InterpretationSet(unsigned='01011100', compliment='10100100')"
      ]
     },
     "execution_count": 15,
     "metadata": {},
     "output_type": "execute_result"
    }
   ],
   "source": [
    "# A\n",
    "interpret(0x5C, 8)"
   ]
  },
  {
   "cell_type": "code",
   "execution_count": 16,
   "metadata": {},
   "outputs": [
    {
     "data": {
      "text/plain": [
       "InterpretationSet(unsigned='10010101', compliment='1101011')"
      ]
     },
     "execution_count": 16,
     "metadata": {},
     "output_type": "execute_result"
    }
   ],
   "source": [
    "# B\n",
    "interpret(0x95, 8)"
   ]
  },
  {
   "cell_type": "markdown",
   "metadata": {},
   "source": [
    "## Problem 7"
   ]
  },
  {
   "cell_type": "code",
   "execution_count": 17,
   "metadata": {},
   "outputs": [],
   "source": [
    "def hexAdd(x, y):\n",
    "    width = len(hex(x)[2:])\n",
    "    unsignedSum = x + y\n",
    "    unsignedStr = hex(unsignedSum)[2:].rjust(width, '0')\n",
    "    unsignedFinal = unsignedStr[len(unsignedStr)-width:]\n",
    "    unsignedComment = 'Valid' if unsignedStr == unsignedFinal else 'Invalid, Actual sum: '+unsignedStr\n",
    "    unsignedStatement = '{} ({})'.format(unsignedFinal, unsignedComment)\n",
    "    print('Unsigned: ' + unsignedStatement)\n",
    "    \n",
    "    sX = unCompliment(x, width)\n",
    "    sY = unCompliment(y, width)\n",
    "    signedSum = sX + sY\n",
    "    signedStr = hex(signedSum)[2:].rjust(width, '0')\n",
    "    signedFinal = signedStr[len(signedStr)-width:]\n",
    "    signedComment = 'Valid' if signedStr == signedFinal else 'Invalid, Actual sum: '+signedStr\n",
    "    signedStatement = '{} ({})'.format(signedFinal, signedComment)\n",
    "    print('2s Compl: ' + signedStatement)\n",
    "    return interpretationSet(unsignedStatement, signedStatement)"
   ]
  },
  {
   "cell_type": "code",
   "execution_count": 18,
   "metadata": {},
   "outputs": [
    {
     "name": "stdout",
     "output_type": "stream",
     "text": [
      "Unsigned: e3 (Valid)\n",
      "2s Compl: 5d (Valid)\n"
     ]
    },
    {
     "data": {
      "text/plain": [
       "InterpretationSet(unsigned='e3 (Valid)', compliment='5d (Valid)')"
      ]
     },
     "execution_count": 18,
     "metadata": {},
     "output_type": "execute_result"
    }
   ],
   "source": [
    "# A\n",
    "hexAdd(0x3F, 0xA4)"
   ]
  },
  {
   "cell_type": "code",
   "execution_count": 19,
   "metadata": {},
   "outputs": [
    {
     "name": "stdout",
     "output_type": "stream",
     "text": [
      "Unsigned: 05c4 (Invalid, Actual sum: 105c4)\n",
      "2s Compl: 023c (Valid)\n"
     ]
    },
    {
     "data": {
      "text/plain": [
       "InterpretationSet(unsigned='05c4 (Invalid, Actual sum: 105c4)', compliment='023c (Valid)')"
      ]
     },
     "execution_count": 19,
     "metadata": {},
     "output_type": "execute_result"
    }
   ],
   "source": [
    "# B\n",
    "hexAdd(0xFF07, 0x06BD)"
   ]
  },
  {
   "cell_type": "code",
   "execution_count": 20,
   "metadata": {},
   "outputs": [
    {
     "name": "stdout",
     "output_type": "stream",
     "text": [
      "Unsigned: 7ff6 (Invalid, Actual sum: 17ff6)\n",
      "2s Compl: 800a (Valid)\n"
     ]
    },
    {
     "data": {
      "text/plain": [
       "InterpretationSet(unsigned='7ff6 (Invalid, Actual sum: 17ff6)', compliment='800a (Valid)')"
      ]
     },
     "execution_count": 20,
     "metadata": {},
     "output_type": "execute_result"
    }
   ],
   "source": [
    "# C\n",
    "hexAdd(0xFFF1, 0x8005)"
   ]
  }
 ],
 "metadata": {
  "kernelspec": {
   "display_name": "Python 3",
   "language": "python",
   "name": "python3"
  },
  "language_info": {
   "codemirror_mode": {
    "name": "ipython",
    "version": 3
   },
   "file_extension": ".py",
   "mimetype": "text/x-python",
   "name": "python",
   "nbconvert_exporter": "python",
   "pygments_lexer": "ipython3",
   "version": "3.6.2"
  }
 },
 "nbformat": 4,
 "nbformat_minor": 2
}
