{
 "cells": [
  {
   "cell_type": "code",
   "execution_count": 1,
   "metadata": {},
   "outputs": [],
   "source": [
    "import math\n",
    "import pandas as pd\n",
    "import numpy as np\n",
    "from collections import namedtuple\n",
    "Vector = namedtuple('Vector', 'x y')\n",
    "%matplotlib inline\n",
    "def coulombs(q1, q2, r):\n",
    "    k = 8.99 * 10**9\n",
    "    return k*q1*q2/(r**2)"
   ]
  },
  {
   "cell_type": "markdown",
   "metadata": {},
   "source": [
    "# Homework #1"
   ]
  },
  {
   "cell_type": "markdown",
   "metadata": {},
   "source": [
    "## 22.19"
   ]
  },
  {
   "cell_type": "code",
   "execution_count": 2,
   "metadata": {},
   "outputs": [
    {
     "data": {
      "text/plain": [
       "0.0003114227352008841"
      ]
     },
     "execution_count": 2,
     "metadata": {},
     "output_type": "execute_result"
    }
   ],
   "source": [
    "2 * coulombs(2*10**-9, 1*10**-9, 0.01) * math.sin(math.radians(60))"
   ]
  },
  {
   "cell_type": "markdown",
   "metadata": {},
   "source": [
    "## 22.41"
   ]
  },
  {
   "cell_type": "code",
   "execution_count": 3,
   "metadata": {},
   "outputs": [
    {
     "data": {
      "text/plain": [
       "0.039698866482558416"
      ]
     },
     "execution_count": 3,
     "metadata": {},
     "output_type": "execute_result"
    }
   ],
   "source": [
    "c = math.sqrt(3**2 + 2.6**2)*.01;c"
   ]
  },
  {
   "cell_type": "code",
   "execution_count": 4,
   "metadata": {},
   "outputs": [
    {
     "data": {
      "text/plain": [
       "Vector(x=0.000646603253897252, y=0.0005603894867109518)"
      ]
     },
     "execution_count": 4,
     "metadata": {},
     "output_type": "execute_result"
    }
   ],
   "source": [
    "FacMag = coulombs(-15*10**-9, -10*10**-9, c)\n",
    "FacAng = math.atan(2.6/3)\n",
    "Fac = Vector(math.cos(FacAng)*FacMag, math.sin(FacAng)*FacMag); Fac"
   ]
  },
  {
   "cell_type": "code",
   "execution_count": 5,
   "metadata": {},
   "outputs": [
    {
     "data": {
      "text/plain": [
       "Vector(x=-4.071588285626741e-20, y=-0.000664940828402367)"
      ]
     },
     "execution_count": 5,
     "metadata": {},
     "output_type": "execute_result"
    }
   ],
   "source": [
    "FabMag = coulombs(5*10**-9, -10*10**-9, .026)\n",
    "FabAng = math.radians(90)\n",
    "Fab = Vector(math.cos(FabAng)*FabMag, math.sin(FabAng)*FabMag); Fab"
   ]
  },
  {
   "cell_type": "code",
   "execution_count": 6,
   "metadata": {},
   "outputs": [
    {
     "data": {
      "text/plain": [
       "Vector(x=0.000646603253897252, y=-0.00010455134169141522)"
      ]
     },
     "execution_count": 6,
     "metadata": {},
     "output_type": "execute_result"
    }
   ],
   "source": [
    "Fc = Vector(Fac.x+Fab.x, Fac.y+Fab.y);Fc"
   ]
  },
  {
   "cell_type": "code",
   "execution_count": 7,
   "metadata": {},
   "outputs": [
    {
     "data": {
      "text/plain": [
       "0.0006550013366398494"
      ]
     },
     "execution_count": 7,
     "metadata": {},
     "output_type": "execute_result"
    }
   ],
   "source": [
    "FcMag = math.sqrt(Fc.x**2 + Fc.y**2); FcMag"
   ]
  },
  {
   "cell_type": "code",
   "execution_count": 8,
   "metadata": {},
   "outputs": [
    {
     "data": {
      "text/plain": [
       "-9.184842869405559"
      ]
     },
     "execution_count": 8,
     "metadata": {},
     "output_type": "execute_result"
    }
   ],
   "source": [
    "FcAng = math.degrees(math.atan(Fc.y/Fc.x));FcAng"
   ]
  },
  {
   "cell_type": "markdown",
   "metadata": {},
   "source": [
    "## 22.43"
   ]
  },
  {
   "cell_type": "code",
   "execution_count": 9,
   "metadata": {},
   "outputs": [
    {
     "data": {
      "text/plain": [
       "Vector(x=-0.00024972222222222225, y=-0.0)"
      ]
     },
     "execution_count": 9,
     "metadata": {},
     "output_type": "execute_result"
    }
   ],
   "source": [
    "FbcMag = coulombs(5*10**-9, -5*10**-9, .03)\n",
    "FbcAng = math.radians(0)\n",
    "Fbc = Vector(math.cos(FbcAng)*FbcMag, math.sin(FbcAng)*FbcMag); Fbc"
   ]
  },
  {
   "cell_type": "code",
   "execution_count": 10,
   "metadata": {},
   "outputs": [
    {
     "data": {
      "text/plain": [
       "0.05"
      ]
     },
     "execution_count": 10,
     "metadata": {},
     "output_type": "execute_result"
    }
   ],
   "source": [
    "c = math.sqrt(3**2 + 4**2)*0.01;c"
   ]
  },
  {
   "cell_type": "code",
   "execution_count": 11,
   "metadata": {},
   "outputs": [
    {
     "data": {
      "text/plain": [
       "Vector(x=0.00010788, y=0.00014383999999999998)"
      ]
     },
     "execution_count": 11,
     "metadata": {},
     "output_type": "execute_result"
    }
   ],
   "source": [
    "FabMag = coulombs(5*10**-9, 10*10**-9, c)\n",
    "FabAng = math.atan(4/3)\n",
    "Fab = Vector(math.cos(FabAng)*FabMag, math.sin(FabAng)*FabMag); Fab"
   ]
  },
  {
   "cell_type": "code",
   "execution_count": 12,
   "metadata": {},
   "outputs": [
    {
     "data": {
      "text/plain": [
       "Vector(x=-0.00014184222222222225, y=0.00014383999999999998)"
      ]
     },
     "execution_count": 12,
     "metadata": {},
     "output_type": "execute_result"
    }
   ],
   "source": [
    "Fb = Vector(Fbc.x+Fab.x, Fbc.y+Fab.y);Fb"
   ]
  },
  {
   "cell_type": "code",
   "execution_count": 13,
   "metadata": {},
   "outputs": [
    {
     "data": {
      "text/plain": [
       "0.00020201277584583178"
      ]
     },
     "execution_count": 13,
     "metadata": {},
     "output_type": "execute_result"
    }
   ],
   "source": [
    "FbMag = math.sqrt(Fb.x**2 + Fb.y**2); FbMag"
   ]
  },
  {
   "cell_type": "code",
   "execution_count": 14,
   "metadata": {},
   "outputs": [
    {
     "data": {
      "text/plain": [
       "-45.400663255792146"
      ]
     },
     "execution_count": 14,
     "metadata": {},
     "output_type": "execute_result"
    }
   ],
   "source": [
    "FbAng = math.degrees(math.atan(Fb.y/Fb.x));FbAng"
   ]
  },
  {
   "cell_type": "markdown",
   "metadata": {},
   "source": [
    "## 22.51\n",
    "They hecked it up with symbolic stuff"
   ]
  },
  {
   "cell_type": "code",
   "execution_count": 15,
   "metadata": {},
   "outputs": [],
   "source": [
    "from sympy import *\n",
    "K, L, Q, q = symbols(\"K L Q q\")\n",
    "def symCoulombs(q1, q2, r):\n",
    "    return K*q1*q2/(r**2)"
   ]
  },
  {
   "cell_type": "code",
   "execution_count": 16,
   "metadata": {},
   "outputs": [
    {
     "data": {
      "text/plain": [
       "2*K*Q*q*(-sqrt(2) + 1)/L**2"
      ]
     },
     "execution_count": 16,
     "metadata": {},
     "output_type": "execute_result"
    }
   ],
   "source": [
    "simplify((4*K*Q*q)/(sqrt(2)*L)**2 - 2*(K*Q*q*sqrt(2))/L**2)\n",
    "# REally fucking important"
   ]
  },
  {
   "cell_type": "code",
   "execution_count": 17,
   "metadata": {},
   "outputs": [
    {
     "data": {
      "text/plain": [
       "-K*Q*q/L**2 + sqrt(2)*K*Q*q/L**2"
      ]
     },
     "execution_count": 17,
     "metadata": {},
     "output_type": "execute_result"
    }
   ],
   "source": [
    "netx = (2*K*Q*q)/((sqrt(2)*L**2)) - (K*Q*q)/(L**2);netx"
   ]
  },
  {
   "cell_type": "code",
   "execution_count": 18,
   "metadata": {},
   "outputs": [
    {
     "data": {
      "text/plain": [
       "sqrt(K**2*Q**2*q**2/L**4)*(-sqrt(2) + 2)"
      ]
     },
     "execution_count": 18,
     "metadata": {},
     "output_type": "execute_result"
    }
   ],
   "source": [
    "simplify(sqrt(netx**2 + netx**2))"
   ]
  },
  {
   "cell_type": "markdown",
   "metadata": {},
   "source": [
    "## 22.62"
   ]
  },
  {
   "cell_type": "code",
   "execution_count": 19,
   "metadata": {},
   "outputs": [],
   "source": [
    "k = 8.99 * 10**9\n",
    "q = 120 * 10 ** -9\n",
    "m = 0.04\n",
    "g = 9.81\n",
    "L = symbols('L')"
   ]
  },
  {
   "cell_type": "raw",
   "metadata": {},
   "source": [
    "solve(Eq((k**2 * q**4)/(4*L**2*m**2*g**2) + (L**2)/4, 1), L)"
   ]
  },
  {
   "cell_type": "markdown",
   "metadata": {},
   "source": [
    "## 22.66"
   ]
  },
  {
   "cell_type": "code",
   "execution_count": 20,
   "metadata": {},
   "outputs": [],
   "source": [
    "e0 = 8.85 * 10**-12\n",
    "def efPoint(q, r):\n",
    "    heck = 1/(4*math.pi*e0)\n",
    "    ratio = q/r**2\n",
    "    return heck*ratio"
   ]
  },
  {
   "cell_type": "code",
   "execution_count": 21,
   "metadata": {},
   "outputs": [
    {
     "data": {
      "text/plain": [
       "Vector(x=8.530374932963904, y=-2.843458310987968)"
      ]
     },
     "execution_count": 21,
     "metadata": {},
     "output_type": "execute_result"
    }
   ],
   "source": [
    "# Field 1\n",
    "r = math.sqrt(3**2 + 1**2)\n",
    "f = efPoint(1*10**-9, r*.01)*.001\n",
    "ang = math.atan(3/1)\n",
    "Vector(f*math.sin(ang), f*math.cos(ang)*-1)"
   ]
  },
  {
   "cell_type": "code",
   "execution_count": 22,
   "metadata": {},
   "outputs": [
    {
     "data": {
      "text/plain": [
       "Vector(x=9.990894104952629, y=0)"
      ]
     },
     "execution_count": 22,
     "metadata": {},
     "output_type": "execute_result"
    }
   ],
   "source": [
    "# Field 2\n",
    "f = efPoint(1*10**-9, 3*.01) * 0.001 # kN/C\n",
    "Vector(f, 0)"
   ]
  },
  {
   "cell_type": "code",
   "execution_count": 23,
   "metadata": {},
   "outputs": [
    {
     "data": {
      "text/plain": [
       "Vector(x=8.530374932963904, y=2.843458310987968)"
      ]
     },
     "execution_count": 23,
     "metadata": {},
     "output_type": "execute_result"
    }
   ],
   "source": [
    "# Field 3\n",
    "r = math.sqrt(3**2 + 1**2)\n",
    "f = efPoint(1*10**-9, r*.01)*.001\n",
    "ang = math.atan(3/1)\n",
    "Vector(f*math.sin(ang), f*math.cos(ang))"
   ]
  },
  {
   "cell_type": "code",
   "execution_count": 24,
   "metadata": {},
   "outputs": [
    {
     "data": {
      "text/plain": [
       "Vector(x=27.051643970880434, y=0.0)"
      ]
     },
     "execution_count": 24,
     "metadata": {},
     "output_type": "execute_result"
    }
   ],
   "source": [
    "Vector(Out[21].x+Out[22].x+Out[23].x, Out[21].y+Out[22].y+Out[23].y)"
   ]
  },
  {
   "cell_type": "markdown",
   "metadata": {},
   "source": [
    "## 22.49\n",
    "Lul electric field is easy cause 90% of this is just constants"
   ]
  },
  {
   "cell_type": "code",
   "execution_count": 25,
   "metadata": {},
   "outputs": [
    {
     "data": {
      "text/plain": [
       "16.8"
      ]
     },
     "execution_count": 25,
     "metadata": {},
     "output_type": "execute_result"
    }
   ],
   "source": [
    "(20**2 * 4.2)/10**2"
   ]
  },
  {
   "cell_type": "markdown",
   "metadata": {},
   "source": [
    "## 22.64"
   ]
  },
  {
   "cell_type": "code",
   "execution_count": 26,
   "metadata": {},
   "outputs": [
    {
     "data": {
      "text/plain": [
       "0.028301943396169812"
      ]
     },
     "execution_count": 26,
     "metadata": {},
     "output_type": "execute_result"
    }
   ],
   "source": [
    "q = 4.2*10**-9\n",
    "a = 2.4 * 0.01\n",
    "b = 1.5 * 0.01\n",
    "r = math.sqrt(a**2 + b**2);r"
   ]
  },
  {
   "cell_type": "code",
   "execution_count": 27,
   "metadata": {},
   "outputs": [
    {
     "data": {
      "text/plain": [
       "Vector(x=39981.45761491673, y=24988.411009322965)"
      ]
     },
     "execution_count": 27,
     "metadata": {},
     "output_type": "execute_result"
    }
   ],
   "source": [
    "# Point a\n",
    "f = efPoint(q, r)\n",
    "ang = math.atan(a/b)\n",
    "Vector(f*math.sin(ang), f*math.cos(ang))"
   ]
  },
  {
   "cell_type": "code",
   "execution_count": 28,
   "metadata": {},
   "outputs": [
    {
     "data": {
      "text/plain": [
       "Vector(x=167847.02096320415, y=0)"
      ]
     },
     "execution_count": 28,
     "metadata": {},
     "output_type": "execute_result"
    }
   ],
   "source": [
    "f = efPoint(q, b)\n",
    "Vector(f, 0)"
   ]
  },
  {
   "cell_type": "code",
   "execution_count": null,
   "metadata": {},
   "outputs": [],
   "source": []
  }
 ],
 "metadata": {
  "kernelspec": {
   "display_name": "Python 3",
   "language": "python",
   "name": "python3"
  },
  "language_info": {
   "codemirror_mode": {
    "name": "ipython",
    "version": 3
   },
   "file_extension": ".py",
   "mimetype": "text/x-python",
   "name": "python",
   "nbconvert_exporter": "python",
   "pygments_lexer": "ipython3",
   "version": "3.6.2"
  }
 },
 "nbformat": 4,
 "nbformat_minor": 2
}
