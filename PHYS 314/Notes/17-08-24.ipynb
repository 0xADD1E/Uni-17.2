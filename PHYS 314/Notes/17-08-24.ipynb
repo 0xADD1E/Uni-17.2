{
 "cells": [
  {
   "cell_type": "code",
   "execution_count": 1,
   "metadata": {
    "collapsed": true
   },
   "outputs": [],
   "source": [
    "import math\n",
    "from sympy.solvers import solve\n",
    "from sympy import *\n",
    "x = Symbol('x')\n",
    "def coulombs(q1, q2, r):\n",
    "    k = 8.99 * 10**9\n",
    "    return k*q1*q2/r**2"
   ]
  },
  {
   "cell_type": "markdown",
   "metadata": {},
   "source": [
    "There are two positive charges with charges +1c and +3c. If another charge (+1c) is to be placed such that there is no net force, where would it be placed?"
   ]
  },
  {
   "cell_type": "code",
   "execution_count": 2,
   "metadata": {},
   "outputs": [
    {
     "data": {
      "text/plain": [
       "0.00899/x**2"
      ]
     },
     "execution_count": 2,
     "metadata": {},
     "output_type": "execute_result"
    }
   ],
   "source": [
    "# F31\n",
    "coulombs(1*10**-6, 1*10**-6, x)"
   ]
  },
  {
   "cell_type": "code",
   "execution_count": 3,
   "metadata": {},
   "outputs": [
    {
     "data": {
      "text/plain": [
       "0.02697/(-x + 0.1)**2"
      ]
     },
     "execution_count": 3,
     "metadata": {},
     "output_type": "execute_result"
    }
   ],
   "source": [
    "#F32\n",
    "coulombs(1*10**-6, 3*10**-6, 0.1-x)"
   ]
  },
  {
   "cell_type": "code",
   "execution_count": 4,
   "metadata": {},
   "outputs": [
    {
     "data": {
      "text/plain": [
       "[-0.136602540378444, 0.0366025403784439]"
      ]
     },
     "execution_count": 4,
     "metadata": {},
     "output_type": "execute_result"
    }
   ],
   "source": [
    "#F1\n",
    "solve(Eq(Out[3],Out[2]))"
   ]
  },
  {
   "cell_type": "markdown",
   "metadata": {},
   "source": [
    "Three charges in a right triangle\n",
    "\n",
    "```\n",
    "+30nc\n",
    "\n",
    "[10cm]\n",
    "\n",
    "-50nc     [5cm]    +50nc\n",
    "```"
   ]
  },
  {
   "cell_type": "code",
   "execution_count": 5,
   "metadata": {},
   "outputs": [
    {
     "data": {
      "text/plain": [
       "0.13485000000000003"
      ]
     },
     "execution_count": 5,
     "metadata": {},
     "output_type": "execute_result"
    }
   ],
   "source": [
    "# F13\n",
    "coulombs(30*10**-9, 50*10**-9, .01)"
   ]
  },
  {
   "cell_type": "code",
   "execution_count": 6,
   "metadata": {},
   "outputs": [
    {
     "data": {
      "text/plain": [
       "(0.0004824540268253548, 0.0009649080536507094)"
      ]
     },
     "execution_count": 6,
     "metadata": {},
     "output_type": "execute_result"
    }
   ],
   "source": [
    "# F32\n",
    "\n",
    "r = math.sqrt(10**2 + 5**2)\n",
    "mag = coulombs(30*10**-9, 50*10**-9, r*0.01)\n",
    "\n",
    "ang = math.atan(10/5)\n",
    "f32x = math.cos(ang) * mag\n",
    "f32y = math.sin(ang) * mag\n",
    "(f32x, f32y)"
   ]
  },
  {
   "cell_type": "code",
   "execution_count": 10,
   "metadata": {},
   "outputs": [
    {
     "name": "stdout",
     "output_type": "stream",
     "text": [
      "Mag:0.13581576495940964\n",
      "Ang:0.20353040525103142\n"
     ]
    }
   ],
   "source": [
    "# F3\n",
    "f3x = f32x\n",
    "f3y = f32y + Out[5]\n",
    "print('Mag:' + str(math.sqrt(f3x**2 + f3y**2)))\n",
    "print('Ang:' + str(math.degrees(math.atan(f3x/f3y))))"
   ]
  },
  {
   "cell_type": "markdown",
   "metadata": {},
   "source": [
    "Two charges, hanging from one meter strings\n",
    "\n",
    "```\n",
    "----------------------\n",
    "       /20d|\\\n",
    "      /    | \\\n",
    "   m=3g    |  m=3g\n",
    "   q=?     |   q=?\n",
    "```"
   ]
  },
  {
   "cell_type": "code",
   "execution_count": 8,
   "metadata": {
    "collapsed": true
   },
   "outputs": [],
   "source": [
    "gravForce = 3*10**-3 * 9.81\n",
    "tensionY = gravForce\n",
    "tensionX = "
   ]
  },
  {
   "cell_type": "markdown",
   "metadata": {},
   "source": [
    "## Electric field\n",
    "- Vector Quantity\n",
    "- Indicated by $E$\n",
    "- $\\vec{E} = \\frac{Force}{Unit\\ Charge} = \\frac{\\vec{F}}{q}$\n",
    "- Unit is $N/c$\n",
    "- Charge is the source of the field\n",
    "- Fields exist everwhere in the space"
   ]
  },
  {
   "cell_type": "code",
   "execution_count": null,
   "metadata": {
    "collapsed": true
   },
   "outputs": [],
   "source": []
  }
 ],
 "metadata": {
  "kernelspec": {
   "display_name": "Python 3",
   "language": "python",
   "name": "python3"
  },
  "language_info": {
   "codemirror_mode": {
    "name": "ipython",
    "version": 3
   },
   "file_extension": ".py",
   "mimetype": "text/x-python",
   "name": "python",
   "nbconvert_exporter": "python",
   "pygments_lexer": "ipython3",
   "version": "3.6.2"
  }
 },
 "nbformat": 4,
 "nbformat_minor": 2
}
