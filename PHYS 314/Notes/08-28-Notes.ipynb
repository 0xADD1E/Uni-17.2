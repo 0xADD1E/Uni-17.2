{
 "cells": [
  {
   "cell_type": "markdown",
   "metadata": {},
   "source": [
    "# Formulas\n",
    "\n",
    "$$\\epsilon_0 = 8.85\\centerdot 10^{-12} C^2/N M^2$$\n",
    "\n",
    "Electric field from point charges\n",
    "$$\\vec{E} = \\frac{1}{4\\pi\\epsilon_0} \\frac{q}{r^2}$$\n",
    "\n",
    "Electric field from an infinite line\n",
    "$$\\vec{E} = \\frac{1}{2\\pi \\epsilon_0} \\frac{\\lambda}{x} $$\n",
    "\n",
    "Electric field from a ring of charge\n",
    "$$\\lambda = \\frac{Q}{2\\pi a}$$\n",
    "$$d\\vec{E} = \\frac{K dQ}{r^2} = \\frac{1}{4\\pi\\epsilon_0} \\frac{dQ}{r^2}$$\n",
    "$$dQ = \\lambda dL$$\n",
    "$$E = \\frac{1}{4\\pi\\epsilon_0}\\frac{x}{[x^2+a^2]^{3/2}}Q$$\n",
    "\n",
    "Electric field from a disk of charge\n",
    "$$\\vec{E} = \\int_0^R x\\frac{\\sigma(2\\pi r) dr}{4\\pi\\sigma_0 (x^2+a^2)^{3/2}}$$\n",
    "$$\\sigma = \\frac{dQ}{\\left(2\\pi r\\right) dr}$$\n",
    "If $X<<R$: $\\vec{E} = \\frac{\\sigma}{2\\epsilon_0}$\n",
    "\n",
    "Otherwise: $\\vec{E} = \\frac{\\sigma}{2\\epsilon_0} \\left(1-\\frac{x}{[x^2+R^2]^{3/2}}\\right)$\n",
    "\n",
    "Electric field between two parallel plates\n",
    "$$\\vec{E} = \\frac{\\sigma}{2\\epsilon_0}$$\n",
    "$$\\vec{E_T} = \\vec{E_1} + \\vec{E_2}$$\n",
    "\n",
    "Notes:\n",
    "- Field outside the plates is effectively $0$\n",
    "- Textbook may use $\\eta$ in place of $\\sigma$"
   ]
  }
 ],
 "metadata": {
  "kernelspec": {
   "display_name": "Python 3",
   "language": "python",
   "name": "python3"
  },
  "language_info": {
   "codemirror_mode": {
    "name": "ipython",
    "version": 3
   },
   "file_extension": ".py",
   "mimetype": "text/x-python",
   "name": "python",
   "nbconvert_exporter": "python",
   "pygments_lexer": "ipython3",
   "version": "3.6.2"
  }
 },
 "nbformat": 4,
 "nbformat_minor": 2
}
