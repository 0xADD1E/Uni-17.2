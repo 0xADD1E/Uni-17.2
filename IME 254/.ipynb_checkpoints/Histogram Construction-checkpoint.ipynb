{
 "cells": [
  {
   "cell_type": "code",
   "execution_count": 1,
   "metadata": {},
   "outputs": [],
   "source": [
    "import numpy as np\n",
    "import pandas as pd\n",
    "import matplotlib\n",
    "import collections\n",
    "import matplotlib.pyplot as plt\n",
    "matplotlib.style.use('fivethirtyeight')\n",
    "%matplotlib inline"
   ]
  },
  {
   "cell_type": "code",
   "execution_count": 2,
   "metadata": {},
   "outputs": [],
   "source": [
    "dataset = [1.17, 1.61, 1.16, 1.38, 3.53, \n",
    "           1.23, 3.76, 1.94, 0.96, 4.75,\n",
    "           0.15, 2.41, 0.71, 0.02, 1.59,\n",
    "           0.19, 0.82, 0.47, 2.16, 2.01,\n",
    "           0.92, 0.75, 2.59, 3.07, 1.40]"
   ]
  },
  {
   "cell_type": "code",
   "execution_count": 3,
   "metadata": {},
   "outputs": [
    {
     "name": "stdout",
     "output_type": "stream",
     "text": [
      "Max: 4.75\n",
      "Min: 0.02\n",
      "Range: 4.73\n"
     ]
    }
   ],
   "source": [
    "upper = max(dataset)\n",
    "lower = min(dataset)\n",
    "setrange = upper-lower\n",
    "print('Max: '+str(upper))\n",
    "print('Min: '+str(lower))\n",
    "print('Range: '+str(setrange))"
   ]
  },
  {
   "cell_type": "code",
   "execution_count": 4,
   "metadata": {},
   "outputs": [
    {
     "name": "stdout",
     "output_type": "stream",
     "text": [
      "[0.02582580000000001, 0.9718258000000002, 1.9178258, 2.8638258, 3.809825800000001, 4.75]\n"
     ]
    }
   ],
   "source": [
    "nBins = int(min(len(dataset) / 5, 50))\n",
    "bins = [(x - (lower - setrange * 0.01)) * setrange/nBins for x in range(nBins)]\n",
    "bins.append(upper)\n",
    "print(bins)"
   ]
  },
  {
   "cell_type": "code",
   "execution_count": 5,
   "metadata": {},
   "outputs": [],
   "source": [
    "binRaw = [0]*nBins\n",
    "for bin in range(nBins):\n",
    "    binRaw[bin] = []\n",
    "    binMin = bins[bin]\n",
    "    binMax = bins[bin + 1]\n",
    "    for i in dataset:\n",
    "        if binMin < i and i <= binMax:\n",
    "            binRaw[bin].append(i)"
   ]
  },
  {
   "cell_type": "code",
   "execution_count": 6,
   "metadata": {},
   "outputs": [
    {
     "name": "stdout",
     "output_type": "stream",
     "text": [
      "(0.02582580000000001, [0.96, 0.15, 0.71, 0.19, 0.82, 0.47, 0.92, 0.75])\n",
      "(0.9718258000000002, [1.17, 1.61, 1.16, 1.38, 1.23, 1.59, 1.4])\n",
      "(1.9178258, [1.94, 2.41, 2.16, 2.01, 2.59])\n",
      "(2.8638258, [3.53, 3.76, 3.07])\n",
      "(3.809825800000001, [4.75])\n"
     ]
    }
   ],
   "source": [
    "for i in zip(bins, binRaw):\n",
    "    print(i)"
   ]
  },
  {
   "cell_type": "markdown",
   "metadata": {},
   "source": [
    "Alternatively,"
   ]
  },
  {
   "cell_type": "code",
   "execution_count": 10,
   "metadata": {},
   "outputs": [
    {
     "data": {
      "text/plain": [
       "<matplotlib.axes._subplots.AxesSubplot at 0x7fd35d53b0f0>"
      ]
     },
     "execution_count": 10,
     "metadata": {},
     "output_type": "execute_result"
    },
    {
     "data": {
      "image/png": "[encoded data removed]",
      "text/plain": [
       "<matplotlib.figure.Figure at 0x7fd35d546a58>"
      ]
     },
     "metadata": {},
     "output_type": "display_data"
    }
   ],
   "source": [
    "df = pd.DataFrame(dataset)\n",
    "df.plot.hist()"
   ]
  },
  {
   "cell_type": "code",
   "execution_count": null,
   "metadata": {},
   "outputs": [],
   "source": []
  }
 ],
 "metadata": {
  "kernelspec": {
   "display_name": "Python 3",
   "language": "python",
   "name": "python3"
  },
  "language_info": {
   "codemirror_mode": {
    "name": "ipython",
    "version": 3
   },
   "file_extension": ".py",
   "mimetype": "text/x-python",
   "name": "python",
   "nbconvert_exporter": "python",
   "pygments_lexer": "ipython3",
   "version": "3.6.1"
  }
 },
 "nbformat": 4,
 "nbformat_minor": 2
}
