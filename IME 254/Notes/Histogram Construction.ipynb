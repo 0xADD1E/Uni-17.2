{
 "cells": [
  {
   "cell_type": "code",
   "execution_count": 1,
   "metadata": {},
   "outputs": [],
   "source": [
    "import numpy as np\n",
    "import pandas as pd\n",
    "import matplotlib\n",
    "import collections\n",
    "import matplotlib.pyplot as plt\n",
    "matplotlib.style.use('fivethirtyeight')\n",
    "import mpld3\n",
    "from mpld3 import plugins\n",
    "mpld3.enable_notebook()\n",
    "%matplotlib inline"
   ]
  },
  {
   "cell_type": "code",
   "execution_count": 2,
   "metadata": {},
   "outputs": [],
   "source": [
    "dataset = [1.17, 1.61, 1.16, 1.38, 3.53, \n",
    "           1.23, 3.76, 1.94, 0.96, 4.75,\n",
    "           0.15, 2.41, 0.71, 0.02, 1.59,\n",
    "           0.19, 0.82, 0.47, 2.16, 2.01,\n",
    "           0.92, 0.75, 2.59, 3.07, 1.40]"
   ]
  },
  {
   "cell_type": "code",
   "execution_count": 3,
   "metadata": {},
   "outputs": [
    {
     "name": "stdout",
     "output_type": "stream",
     "text": [
      "Max: 4.75\n",
      "Min: 0.02\n",
      "Range: 4.73\n"
     ]
    }
   ],
   "source": [
    "upper = max(dataset)\n",
    "lower = min(dataset)\n",
    "setrange = upper-lower\n",
    "print('Max: '+str(upper))\n",
    "print('Min: '+str(lower))\n",
    "print('Range: '+str(setrange))"
   ]
  },
  {
   "cell_type": "code",
   "execution_count": 4,
   "metadata": {},
   "outputs": [
    {
     "name": "stdout",
     "output_type": "stream",
     "text": [
      "[0.02582580000000001, 0.9718258000000002, 1.9178258, 2.8638258, 3.809825800000001, 4.75]\n"
     ]
    }
   ],
   "source": [
    "nBins = int(min(len(dataset) / 5, 50))\n",
    "bins = [(x - (lower - setrange * 0.01)) * setrange/nBins for x in range(nBins)]\n",
    "bins.append(upper)\n",
    "print(bins)"
   ]
  },
  {
   "cell_type": "code",
   "execution_count": 5,
   "metadata": {},
   "outputs": [],
   "source": [
    "binRaw = [0]*nBins\n",
    "for bin in range(nBins):\n",
    "    binRaw[bin] = []\n",
    "    binMin = bins[bin]\n",
    "    binMax = bins[bin + 1]\n",
    "    for i in dataset:\n",
    "        if binMin < i and i <= binMax:\n",
    "            binRaw[bin].append(i)"
   ]
  },
  {
   "cell_type": "code",
   "execution_count": 6,
   "metadata": {},
   "outputs": [
    {
     "name": "stdout",
     "output_type": "stream",
     "text": [
      "(0.02582580000000001, [0.96, 0.15, 0.71, 0.19, 0.82, 0.47, 0.92, 0.75])\n",
      "(0.9718258000000002, [1.17, 1.61, 1.16, 1.38, 1.23, 1.59, 1.4])\n",
      "(1.9178258, [1.94, 2.41, 2.16, 2.01, 2.59])\n",
      "(2.8638258, [3.53, 3.76, 3.07])\n",
      "(3.809825800000001, [4.75])\n"
     ]
    }
   ],
   "source": [
    "for i in zip(bins, binRaw):\n",
    "    print(i)"
   ]
  },
  {
   "cell_type": "markdown",
   "metadata": {},
   "source": [
    "Alternatively,"
   ]
  },
  {
   "cell_type": "code",
   "execution_count": 7,
   "metadata": {},
   "outputs": [
    {
     "data": {
      "text/plain": [
       "<matplotlib.axes._subplots.AxesSubplot at 0x7f8190de4048>"
      ]
     },
     "execution_count": 7,
     "metadata": {},
     "output_type": "execute_result"
    },
    {
     "data": {
      "image/png": "[encoded data removed]",
      "text/html": [
       "\n",
       "\n",
       "<style>\n",
       "\n",
       "</style>\n",
       "\n",
       "<div id=\"fig_el671401944579972085569321877\"></div>\n",
       "<script>\n",
       "function mpld3_load_lib(url, callback){\n",
       "  var s = document.createElement('script');\n",
       "  s.src = url;\n",
       "  s.async = true;\n",
       "  s.onreadystatechange = s.onload = callback;\n",
       "  s.onerror = function(){console.warn(\"failed to load library \" + url);};\n",
       "  document.getElementsByTagName(\"head\")[0].appendChild(s);\n",
       "}\n",
       "\n",
       "if(typeof(mpld3) !== \"undefined\" && mpld3._mpld3IsLoaded){\n",
       "   // already loaded: just create the figure\n",
       "   !function(mpld3){\n",
       "       \n",
       "       mpld3.draw_figure(\"fig_el671401944579972085569321877\", {\"width\": 432.0, \"height\": 288.0, \"axes\": [{\"bbox\": [0.08, 0.125, 0.87, 0.755], \"xlim\": [-0.21650000000000008, 4.986500000000001], \"ylim\": [0.0, 5.25], \"xdomain\": [-0.21650000000000008, 4.986500000000001], \"ydomain\": [0.0, 5.25], \"xscale\": \"linear\", \"yscale\": \"linear\", \"axes\": [{\"position\": \"bottom\", \"nticks\": 7, \"tickvalues\": null, \"tickformat\": null, \"scale\": \"linear\", \"fontsize\": 10.0, \"grid\": {\"gridOn\": true, \"color\": \"#CBCBCB\", \"dasharray\": \"none\", \"alpha\": 1.0}, \"visible\": true}, {\"position\": \"left\", \"nticks\": 7, \"tickvalues\": null, \"tickformat\": null, \"scale\": \"linear\", \"fontsize\": 10.0, \"grid\": {\"gridOn\": true, \"color\": \"#CBCBCB\", \"dasharray\": \"none\", \"alpha\": 1.0}, \"visible\": true}], \"axesbg\": \"#F0F0F0\", \"axesbgalpha\": null, \"zoomable\": true, \"id\": \"el67140194457993288\", \"lines\": [], \"paths\": [{\"data\": \"data01\", \"xindex\": 0, \"yindex\": 1, \"coordinates\": \"data\", \"pathcodes\": [\"M\", \"L\", \"L\", \"L\", \"Z\"], \"id\": \"el67140194457126952\", \"dasharray\": \"none\", \"alpha\": 1, \"facecolor\": \"#008FD5\", \"edgecolor\": \"none\", \"edgewidth\": 0.5, \"zorder\": 1}, {\"data\": \"data02\", \"xindex\": 0, \"yindex\": 1, \"coordinates\": \"data\", \"pathcodes\": [\"M\", \"L\", \"L\", \"L\", \"Z\"], \"id\": \"el67140194457128912\", \"dasharray\": \"none\", \"alpha\": 1, \"facecolor\": \"#008FD5\", \"edgecolor\": \"none\", \"edgewidth\": 0.5, \"zorder\": 1}, {\"data\": \"data02\", \"xindex\": 2, \"yindex\": 1, \"coordinates\": \"data\", \"pathcodes\": [\"M\", \"L\", \"L\", \"L\", \"Z\"], \"id\": \"el67140194457200848\", \"dasharray\": \"none\", \"alpha\": 1, \"facecolor\": \"#008FD5\", \"edgecolor\": \"none\", \"edgewidth\": 0.5, \"zorder\": 1}, {\"data\": \"data03\", \"xindex\": 0, \"yindex\": 1, \"coordinates\": \"data\", \"pathcodes\": [\"M\", \"L\", \"L\", \"L\", \"Z\"], \"id\": \"el67140194457239960\", \"dasharray\": \"none\", \"alpha\": 1, \"facecolor\": \"#008FD5\", \"edgecolor\": \"none\", \"edgewidth\": 0.5, \"zorder\": 1}, {\"data\": \"data04\", \"xindex\": 0, \"yindex\": 1, \"coordinates\": \"data\", \"pathcodes\": [\"M\", \"L\", \"L\", \"L\", \"Z\"], \"id\": \"el67140194457242256\", \"dasharray\": \"none\", \"alpha\": 1, \"facecolor\": \"#008FD5\", \"edgecolor\": \"none\", \"edgewidth\": 0.5, \"zorder\": 1}, {\"data\": \"data03\", \"xindex\": 2, \"yindex\": 1, \"coordinates\": \"data\", \"pathcodes\": [\"M\", \"L\", \"L\", \"L\", \"Z\"], \"id\": \"el67140194456748888\", \"dasharray\": \"none\", \"alpha\": 1, \"facecolor\": \"#008FD5\", \"edgecolor\": \"none\", \"edgewidth\": 0.5, \"zorder\": 1}, {\"data\": \"data05\", \"xindex\": 0, \"yindex\": 1, \"coordinates\": \"data\", \"pathcodes\": [\"M\", \"L\", \"L\", \"L\", \"Z\"], \"id\": \"el67140194456751184\", \"dasharray\": \"none\", \"alpha\": 1, \"facecolor\": \"#008FD5\", \"edgecolor\": \"none\", \"edgewidth\": 0.5, \"zorder\": 1}, {\"data\": \"data03\", \"xindex\": 3, \"yindex\": 1, \"coordinates\": \"data\", \"pathcodes\": [\"M\", \"L\", \"L\", \"L\", \"Z\"], \"id\": \"el67140194456786200\", \"dasharray\": \"none\", \"alpha\": 1, \"facecolor\": \"#008FD5\", \"edgecolor\": \"none\", \"edgewidth\": 0.5, \"zorder\": 1}, {\"data\": \"data06\", \"xindex\": 0, \"yindex\": 1, \"coordinates\": \"data\", \"pathcodes\": [\"M\", \"L\", \"L\", \"L\", \"Z\"], \"id\": \"el67140194456788496\", \"dasharray\": \"none\", \"alpha\": 1, \"facecolor\": \"#008FD5\", \"edgecolor\": \"none\", \"edgewidth\": 0.5, \"zorder\": 1}, {\"data\": \"data05\", \"xindex\": 2, \"yindex\": 1, \"coordinates\": \"data\", \"pathcodes\": [\"M\", \"L\", \"L\", \"L\", \"Z\"], \"id\": \"el67140194456819472\", \"dasharray\": \"none\", \"alpha\": 1, \"facecolor\": \"#008FD5\", \"edgecolor\": \"none\", \"edgewidth\": 0.5, \"zorder\": 1}, {\"data\": \"data07\", \"xindex\": 0, \"yindex\": 1, \"coordinates\": \"axes\", \"pathcodes\": [\"M\", \"L\", \"L\", \"L\", \"Z\"], \"id\": \"el67140194456856280\", \"dasharray\": \"none\", \"alpha\": 1, \"facecolor\": \"#008FD5\", \"edgecolor\": \"none\", \"edgewidth\": 0.5, \"zorder\": 1000001.0}, {\"data\": \"data08\", \"xindex\": 0, \"yindex\": 1, \"coordinates\": \"axes\", \"pathcodes\": [\"M\", \"L\", \"S\", \"L\", \"S\", \"L\", \"S\", \"L\", \"S\", \"Z\"], \"id\": \"el67140194457126056\", \"dasharray\": \"none\", \"alpha\": 0.8, \"facecolor\": \"#F0F0F0\", \"edgecolor\": \"#CCCCCC\", \"edgewidth\": 0.5, \"zorder\": 1000000.0}], \"markers\": [], \"texts\": [{\"text\": \"Frequency\", \"position\": [-0.03691730523627076, 0.49999999999999994], \"coordinates\": \"axes\", \"h_anchor\": \"middle\", \"v_baseline\": \"auto\", \"rotation\": -90.0, \"fontsize\": 12.0, \"color\": \"#000000\", \"alpha\": 1, \"zorder\": 3, \"id\": \"el67140194457264480\"}, {\"text\": \"0\", \"position\": [0.9590916347381865, 0.9218175128771156], \"coordinates\": \"axes\", \"h_anchor\": \"start\", \"v_baseline\": \"auto\", \"rotation\": -0.0, \"fontsize\": 10.0, \"color\": \"#000000\", \"alpha\": 1, \"zorder\": 1000003.0, \"id\": \"el67140194456820536\"}], \"collections\": [], \"images\": [], \"sharex\": [], \"sharey\": []}], \"data\": {\"data01\": [[0.01999999999999999, 0.0], [0.493, 0.0], [0.493, 4.0], [0.01999999999999999, 4.0]], \"data02\": [[0.493, 0.0, 0.9660000000000002], [0.966, 0.0, 1.439], [0.966, 5.0, 1.439], [0.493, 5.0, 0.9660000000000002]], \"data03\": [[1.439, 0.0, 2.3850000000000002, 3.3310000000000004], [1.9120000000000001, 0.0, 2.858, 3.8040000000000003], [1.9120000000000001, 2.0, 2.858, 3.8040000000000003], [1.439, 2.0, 2.3850000000000002, 3.3310000000000004]], \"data04\": [[1.9120000000000004, 0.0], [2.3850000000000007, 0.0], [2.3850000000000007, 3.0], [1.9120000000000004, 3.0]], \"data05\": [[2.8579999999999997, 0.0, 4.277000000000001], [3.331, 0.0, 4.750000000000001], [3.331, 1.0, 4.750000000000001], [2.8579999999999997, 1.0, 4.277000000000001]], \"data06\": [[3.804, 0.0], [4.276999999999999, 0.0], [4.276999999999999, 0.0], [3.804, 0.0]], \"data07\": [[0.8845918475947211, 0.9218175128771156], [0.9378059812686249, 0.9218175128771156], [0.9378059812686249, 0.954010301692421], [0.8845918475947211, 0.954010301692421]], \"data08\": [[0.8792704342273308, 0.8942236938925681], [0.9813750532141335, 0.8942236938925681], [0.986696466581524, 0.8942236938925681], [0.986696466581524, 0.9034216335540839], [0.986696466581524, 0.9678072111846947], [0.986696466581524, 0.9770051508462105], [0.9813750532141335, 0.9770051508462105], [0.8792704342273308, 0.9770051508462105], [0.8739490208599404, 0.9770051508462105], [0.8739490208599404, 0.9678072111846947], [0.8739490208599404, 0.9034216335540839], [0.8739490208599404, 0.8942236938925681], [0.8792704342273308, 0.8942236938925681]]}, \"id\": \"el67140194457997208\", \"plugins\": [{\"type\": \"reset\"}, {\"type\": \"zoom\", \"button\": true, \"enabled\": false}, {\"type\": \"boxzoom\", \"button\": true, \"enabled\": false}]});\n",
       "   }(mpld3);\n",
       "}else if(typeof define === \"function\" && define.amd){\n",
       "   // require.js is available: use it to load d3/mpld3\n",
       "   require.config({paths: {d3: \"https://mpld3.github.io/js/d3.v3.min\"}});\n",
       "   require([\"d3\"], function(d3){\n",
       "      window.d3 = d3;\n",
       "      mpld3_load_lib(\"https://mpld3.github.io/js/mpld3.v0.3.js\", function(){\n",
       "         \n",
       "         mpld3.draw_figure(\"fig_el671401944579972085569321877\", {\"width\": 432.0, \"height\": 288.0, \"axes\": [{\"bbox\": [0.08, 0.125, 0.87, 0.755], \"xlim\": [-0.21650000000000008, 4.986500000000001], \"ylim\": [0.0, 5.25], \"xdomain\": [-0.21650000000000008, 4.986500000000001], \"ydomain\": [0.0, 5.25], \"xscale\": \"linear\", \"yscale\": \"linear\", \"axes\": [{\"position\": \"bottom\", \"nticks\": 7, \"tickvalues\": null, \"tickformat\": null, \"scale\": \"linear\", \"fontsize\": 10.0, \"grid\": {\"gridOn\": true, \"color\": \"#CBCBCB\", \"dasharray\": \"none\", \"alpha\": 1.0}, \"visible\": true}, {\"position\": \"left\", \"nticks\": 7, \"tickvalues\": null, \"tickformat\": null, \"scale\": \"linear\", \"fontsize\": 10.0, \"grid\": {\"gridOn\": true, \"color\": \"#CBCBCB\", \"dasharray\": \"none\", \"alpha\": 1.0}, \"visible\": true}], \"axesbg\": \"#F0F0F0\", \"axesbgalpha\": null, \"zoomable\": true, \"id\": \"el67140194457993288\", \"lines\": [], \"paths\": [{\"data\": \"data01\", \"xindex\": 0, \"yindex\": 1, \"coordinates\": \"data\", \"pathcodes\": [\"M\", \"L\", \"L\", \"L\", \"Z\"], \"id\": \"el67140194457126952\", \"dasharray\": \"none\", \"alpha\": 1, \"facecolor\": \"#008FD5\", \"edgecolor\": \"none\", \"edgewidth\": 0.5, \"zorder\": 1}, {\"data\": \"data02\", \"xindex\": 0, \"yindex\": 1, \"coordinates\": \"data\", \"pathcodes\": [\"M\", \"L\", \"L\", \"L\", \"Z\"], \"id\": \"el67140194457128912\", \"dasharray\": \"none\", \"alpha\": 1, \"facecolor\": \"#008FD5\", \"edgecolor\": \"none\", \"edgewidth\": 0.5, \"zorder\": 1}, {\"data\": \"data02\", \"xindex\": 2, \"yindex\": 1, \"coordinates\": \"data\", \"pathcodes\": [\"M\", \"L\", \"L\", \"L\", \"Z\"], \"id\": \"el67140194457200848\", \"dasharray\": \"none\", \"alpha\": 1, \"facecolor\": \"#008FD5\", \"edgecolor\": \"none\", \"edgewidth\": 0.5, \"zorder\": 1}, {\"data\": \"data03\", \"xindex\": 0, \"yindex\": 1, \"coordinates\": \"data\", \"pathcodes\": [\"M\", \"L\", \"L\", \"L\", \"Z\"], \"id\": \"el67140194457239960\", \"dasharray\": \"none\", \"alpha\": 1, \"facecolor\": \"#008FD5\", \"edgecolor\": \"none\", \"edgewidth\": 0.5, \"zorder\": 1}, {\"data\": \"data04\", \"xindex\": 0, \"yindex\": 1, \"coordinates\": \"data\", \"pathcodes\": [\"M\", \"L\", \"L\", \"L\", \"Z\"], \"id\": \"el67140194457242256\", \"dasharray\": \"none\", \"alpha\": 1, \"facecolor\": \"#008FD5\", \"edgecolor\": \"none\", \"edgewidth\": 0.5, \"zorder\": 1}, {\"data\": \"data03\", \"xindex\": 2, \"yindex\": 1, \"coordinates\": \"data\", \"pathcodes\": [\"M\", \"L\", \"L\", \"L\", \"Z\"], \"id\": \"el67140194456748888\", \"dasharray\": \"none\", \"alpha\": 1, \"facecolor\": \"#008FD5\", \"edgecolor\": \"none\", \"edgewidth\": 0.5, \"zorder\": 1}, {\"data\": \"data05\", \"xindex\": 0, \"yindex\": 1, \"coordinates\": \"data\", \"pathcodes\": [\"M\", \"L\", \"L\", \"L\", \"Z\"], \"id\": \"el67140194456751184\", \"dasharray\": \"none\", \"alpha\": 1, \"facecolor\": \"#008FD5\", \"edgecolor\": \"none\", \"edgewidth\": 0.5, \"zorder\": 1}, {\"data\": \"data03\", \"xindex\": 3, \"yindex\": 1, \"coordinates\": \"data\", \"pathcodes\": [\"M\", \"L\", \"L\", \"L\", \"Z\"], \"id\": \"el67140194456786200\", \"dasharray\": \"none\", \"alpha\": 1, \"facecolor\": \"#008FD5\", \"edgecolor\": \"none\", \"edgewidth\": 0.5, \"zorder\": 1}, {\"data\": \"data06\", \"xindex\": 0, \"yindex\": 1, \"coordinates\": \"data\", \"pathcodes\": [\"M\", \"L\", \"L\", \"L\", \"Z\"], \"id\": \"el67140194456788496\", \"dasharray\": \"none\", \"alpha\": 1, \"facecolor\": \"#008FD5\", \"edgecolor\": \"none\", \"edgewidth\": 0.5, \"zorder\": 1}, {\"data\": \"data05\", \"xindex\": 2, \"yindex\": 1, \"coordinates\": \"data\", \"pathcodes\": [\"M\", \"L\", \"L\", \"L\", \"Z\"], \"id\": \"el67140194456819472\", \"dasharray\": \"none\", \"alpha\": 1, \"facecolor\": \"#008FD5\", \"edgecolor\": \"none\", \"edgewidth\": 0.5, \"zorder\": 1}, {\"data\": \"data07\", \"xindex\": 0, \"yindex\": 1, \"coordinates\": \"axes\", \"pathcodes\": [\"M\", \"L\", \"L\", \"L\", \"Z\"], \"id\": \"el67140194456856280\", \"dasharray\": \"none\", \"alpha\": 1, \"facecolor\": \"#008FD5\", \"edgecolor\": \"none\", \"edgewidth\": 0.5, \"zorder\": 1000001.0}, {\"data\": \"data08\", \"xindex\": 0, \"yindex\": 1, \"coordinates\": \"axes\", \"pathcodes\": [\"M\", \"L\", \"S\", \"L\", \"S\", \"L\", \"S\", \"L\", \"S\", \"Z\"], \"id\": \"el67140194457126056\", \"dasharray\": \"none\", \"alpha\": 0.8, \"facecolor\": \"#F0F0F0\", \"edgecolor\": \"#CCCCCC\", \"edgewidth\": 0.5, \"zorder\": 1000000.0}], \"markers\": [], \"texts\": [{\"text\": \"Frequency\", \"position\": [-0.03691730523627076, 0.49999999999999994], \"coordinates\": \"axes\", \"h_anchor\": \"middle\", \"v_baseline\": \"auto\", \"rotation\": -90.0, \"fontsize\": 12.0, \"color\": \"#000000\", \"alpha\": 1, \"zorder\": 3, \"id\": \"el67140194457264480\"}, {\"text\": \"0\", \"position\": [0.9590916347381865, 0.9218175128771156], \"coordinates\": \"axes\", \"h_anchor\": \"start\", \"v_baseline\": \"auto\", \"rotation\": -0.0, \"fontsize\": 10.0, \"color\": \"#000000\", \"alpha\": 1, \"zorder\": 1000003.0, \"id\": \"el67140194456820536\"}], \"collections\": [], \"images\": [], \"sharex\": [], \"sharey\": []}], \"data\": {\"data01\": [[0.01999999999999999, 0.0], [0.493, 0.0], [0.493, 4.0], [0.01999999999999999, 4.0]], \"data02\": [[0.493, 0.0, 0.9660000000000002], [0.966, 0.0, 1.439], [0.966, 5.0, 1.439], [0.493, 5.0, 0.9660000000000002]], \"data03\": [[1.439, 0.0, 2.3850000000000002, 3.3310000000000004], [1.9120000000000001, 0.0, 2.858, 3.8040000000000003], [1.9120000000000001, 2.0, 2.858, 3.8040000000000003], [1.439, 2.0, 2.3850000000000002, 3.3310000000000004]], \"data04\": [[1.9120000000000004, 0.0], [2.3850000000000007, 0.0], [2.3850000000000007, 3.0], [1.9120000000000004, 3.0]], \"data05\": [[2.8579999999999997, 0.0, 4.277000000000001], [3.331, 0.0, 4.750000000000001], [3.331, 1.0, 4.750000000000001], [2.8579999999999997, 1.0, 4.277000000000001]], \"data06\": [[3.804, 0.0], [4.276999999999999, 0.0], [4.276999999999999, 0.0], [3.804, 0.0]], \"data07\": [[0.8845918475947211, 0.9218175128771156], [0.9378059812686249, 0.9218175128771156], [0.9378059812686249, 0.954010301692421], [0.8845918475947211, 0.954010301692421]], \"data08\": [[0.8792704342273308, 0.8942236938925681], [0.9813750532141335, 0.8942236938925681], [0.986696466581524, 0.8942236938925681], [0.986696466581524, 0.9034216335540839], [0.986696466581524, 0.9678072111846947], [0.986696466581524, 0.9770051508462105], [0.9813750532141335, 0.9770051508462105], [0.8792704342273308, 0.9770051508462105], [0.8739490208599404, 0.9770051508462105], [0.8739490208599404, 0.9678072111846947], [0.8739490208599404, 0.9034216335540839], [0.8739490208599404, 0.8942236938925681], [0.8792704342273308, 0.8942236938925681]]}, \"id\": \"el67140194457997208\", \"plugins\": [{\"type\": \"reset\"}, {\"type\": \"zoom\", \"button\": true, \"enabled\": false}, {\"type\": \"boxzoom\", \"button\": true, \"enabled\": false}]});\n",
       "      });\n",
       "    });\n",
       "}else{\n",
       "    // require.js not available: dynamically load d3 & mpld3\n",
       "    mpld3_load_lib(\"https://mpld3.github.io/js/d3.v3.min.js\", function(){\n",
       "         mpld3_load_lib(\"https://mpld3.github.io/js/mpld3.v0.3.js\", function(){\n",
       "                 \n",
       "                 mpld3.draw_figure(\"fig_el671401944579972085569321877\", {\"width\": 432.0, \"height\": 288.0, \"axes\": [{\"bbox\": [0.08, 0.125, 0.87, 0.755], \"xlim\": [-0.21650000000000008, 4.986500000000001], \"ylim\": [0.0, 5.25], \"xdomain\": [-0.21650000000000008, 4.986500000000001], \"ydomain\": [0.0, 5.25], \"xscale\": \"linear\", \"yscale\": \"linear\", \"axes\": [{\"position\": \"bottom\", \"nticks\": 7, \"tickvalues\": null, \"tickformat\": null, \"scale\": \"linear\", \"fontsize\": 10.0, \"grid\": {\"gridOn\": true, \"color\": \"#CBCBCB\", \"dasharray\": \"none\", \"alpha\": 1.0}, \"visible\": true}, {\"position\": \"left\", \"nticks\": 7, \"tickvalues\": null, \"tickformat\": null, \"scale\": \"linear\", \"fontsize\": 10.0, \"grid\": {\"gridOn\": true, \"color\": \"#CBCBCB\", \"dasharray\": \"none\", \"alpha\": 1.0}, \"visible\": true}], \"axesbg\": \"#F0F0F0\", \"axesbgalpha\": null, \"zoomable\": true, \"id\": \"el67140194457993288\", \"lines\": [], \"paths\": [{\"data\": \"data01\", \"xindex\": 0, \"yindex\": 1, \"coordinates\": \"data\", \"pathcodes\": [\"M\", \"L\", \"L\", \"L\", \"Z\"], \"id\": \"el67140194457126952\", \"dasharray\": \"none\", \"alpha\": 1, \"facecolor\": \"#008FD5\", \"edgecolor\": \"none\", \"edgewidth\": 0.5, \"zorder\": 1}, {\"data\": \"data02\", \"xindex\": 0, \"yindex\": 1, \"coordinates\": \"data\", \"pathcodes\": [\"M\", \"L\", \"L\", \"L\", \"Z\"], \"id\": \"el67140194457128912\", \"dasharray\": \"none\", \"alpha\": 1, \"facecolor\": \"#008FD5\", \"edgecolor\": \"none\", \"edgewidth\": 0.5, \"zorder\": 1}, {\"data\": \"data02\", \"xindex\": 2, \"yindex\": 1, \"coordinates\": \"data\", \"pathcodes\": [\"M\", \"L\", \"L\", \"L\", \"Z\"], \"id\": \"el67140194457200848\", \"dasharray\": \"none\", \"alpha\": 1, \"facecolor\": \"#008FD5\", \"edgecolor\": \"none\", \"edgewidth\": 0.5, \"zorder\": 1}, {\"data\": \"data03\", \"xindex\": 0, \"yindex\": 1, \"coordinates\": \"data\", \"pathcodes\": [\"M\", \"L\", \"L\", \"L\", \"Z\"], \"id\": \"el67140194457239960\", \"dasharray\": \"none\", \"alpha\": 1, \"facecolor\": \"#008FD5\", \"edgecolor\": \"none\", \"edgewidth\": 0.5, \"zorder\": 1}, {\"data\": \"data04\", \"xindex\": 0, \"yindex\": 1, \"coordinates\": \"data\", \"pathcodes\": [\"M\", \"L\", \"L\", \"L\", \"Z\"], \"id\": \"el67140194457242256\", \"dasharray\": \"none\", \"alpha\": 1, \"facecolor\": \"#008FD5\", \"edgecolor\": \"none\", \"edgewidth\": 0.5, \"zorder\": 1}, {\"data\": \"data03\", \"xindex\": 2, \"yindex\": 1, \"coordinates\": \"data\", \"pathcodes\": [\"M\", \"L\", \"L\", \"L\", \"Z\"], \"id\": \"el67140194456748888\", \"dasharray\": \"none\", \"alpha\": 1, \"facecolor\": \"#008FD5\", \"edgecolor\": \"none\", \"edgewidth\": 0.5, \"zorder\": 1}, {\"data\": \"data05\", \"xindex\": 0, \"yindex\": 1, \"coordinates\": \"data\", \"pathcodes\": [\"M\", \"L\", \"L\", \"L\", \"Z\"], \"id\": \"el67140194456751184\", \"dasharray\": \"none\", \"alpha\": 1, \"facecolor\": \"#008FD5\", \"edgecolor\": \"none\", \"edgewidth\": 0.5, \"zorder\": 1}, {\"data\": \"data03\", \"xindex\": 3, \"yindex\": 1, \"coordinates\": \"data\", \"pathcodes\": [\"M\", \"L\", \"L\", \"L\", \"Z\"], \"id\": \"el67140194456786200\", \"dasharray\": \"none\", \"alpha\": 1, \"facecolor\": \"#008FD5\", \"edgecolor\": \"none\", \"edgewidth\": 0.5, \"zorder\": 1}, {\"data\": \"data06\", \"xindex\": 0, \"yindex\": 1, \"coordinates\": \"data\", \"pathcodes\": [\"M\", \"L\", \"L\", \"L\", \"Z\"], \"id\": \"el67140194456788496\", \"dasharray\": \"none\", \"alpha\": 1, \"facecolor\": \"#008FD5\", \"edgecolor\": \"none\", \"edgewidth\": 0.5, \"zorder\": 1}, {\"data\": \"data05\", \"xindex\": 2, \"yindex\": 1, \"coordinates\": \"data\", \"pathcodes\": [\"M\", \"L\", \"L\", \"L\", \"Z\"], \"id\": \"el67140194456819472\", \"dasharray\": \"none\", \"alpha\": 1, \"facecolor\": \"#008FD5\", \"edgecolor\": \"none\", \"edgewidth\": 0.5, \"zorder\": 1}, {\"data\": \"data07\", \"xindex\": 0, \"yindex\": 1, \"coordinates\": \"axes\", \"pathcodes\": [\"M\", \"L\", \"L\", \"L\", \"Z\"], \"id\": \"el67140194456856280\", \"dasharray\": \"none\", \"alpha\": 1, \"facecolor\": \"#008FD5\", \"edgecolor\": \"none\", \"edgewidth\": 0.5, \"zorder\": 1000001.0}, {\"data\": \"data08\", \"xindex\": 0, \"yindex\": 1, \"coordinates\": \"axes\", \"pathcodes\": [\"M\", \"L\", \"S\", \"L\", \"S\", \"L\", \"S\", \"L\", \"S\", \"Z\"], \"id\": \"el67140194457126056\", \"dasharray\": \"none\", \"alpha\": 0.8, \"facecolor\": \"#F0F0F0\", \"edgecolor\": \"#CCCCCC\", \"edgewidth\": 0.5, \"zorder\": 1000000.0}], \"markers\": [], \"texts\": [{\"text\": \"Frequency\", \"position\": [-0.03691730523627076, 0.49999999999999994], \"coordinates\": \"axes\", \"h_anchor\": \"middle\", \"v_baseline\": \"auto\", \"rotation\": -90.0, \"fontsize\": 12.0, \"color\": \"#000000\", \"alpha\": 1, \"zorder\": 3, \"id\": \"el67140194457264480\"}, {\"text\": \"0\", \"position\": [0.9590916347381865, 0.9218175128771156], \"coordinates\": \"axes\", \"h_anchor\": \"start\", \"v_baseline\": \"auto\", \"rotation\": -0.0, \"fontsize\": 10.0, \"color\": \"#000000\", \"alpha\": 1, \"zorder\": 1000003.0, \"id\": \"el67140194456820536\"}], \"collections\": [], \"images\": [], \"sharex\": [], \"sharey\": []}], \"data\": {\"data01\": [[0.01999999999999999, 0.0], [0.493, 0.0], [0.493, 4.0], [0.01999999999999999, 4.0]], \"data02\": [[0.493, 0.0, 0.9660000000000002], [0.966, 0.0, 1.439], [0.966, 5.0, 1.439], [0.493, 5.0, 0.9660000000000002]], \"data03\": [[1.439, 0.0, 2.3850000000000002, 3.3310000000000004], [1.9120000000000001, 0.0, 2.858, 3.8040000000000003], [1.9120000000000001, 2.0, 2.858, 3.8040000000000003], [1.439, 2.0, 2.3850000000000002, 3.3310000000000004]], \"data04\": [[1.9120000000000004, 0.0], [2.3850000000000007, 0.0], [2.3850000000000007, 3.0], [1.9120000000000004, 3.0]], \"data05\": [[2.8579999999999997, 0.0, 4.277000000000001], [3.331, 0.0, 4.750000000000001], [3.331, 1.0, 4.750000000000001], [2.8579999999999997, 1.0, 4.277000000000001]], \"data06\": [[3.804, 0.0], [4.276999999999999, 0.0], [4.276999999999999, 0.0], [3.804, 0.0]], \"data07\": [[0.8845918475947211, 0.9218175128771156], [0.9378059812686249, 0.9218175128771156], [0.9378059812686249, 0.954010301692421], [0.8845918475947211, 0.954010301692421]], \"data08\": [[0.8792704342273308, 0.8942236938925681], [0.9813750532141335, 0.8942236938925681], [0.986696466581524, 0.8942236938925681], [0.986696466581524, 0.9034216335540839], [0.986696466581524, 0.9678072111846947], [0.986696466581524, 0.9770051508462105], [0.9813750532141335, 0.9770051508462105], [0.8792704342273308, 0.9770051508462105], [0.8739490208599404, 0.9770051508462105], [0.8739490208599404, 0.9678072111846947], [0.8739490208599404, 0.9034216335540839], [0.8739490208599404, 0.8942236938925681], [0.8792704342273308, 0.8942236938925681]]}, \"id\": \"el67140194457997208\", \"plugins\": [{\"type\": \"reset\"}, {\"type\": \"zoom\", \"button\": true, \"enabled\": false}, {\"type\": \"boxzoom\", \"button\": true, \"enabled\": false}]});\n",
       "            })\n",
       "         });\n",
       "}\n",
       "</script>"
      ],
      "text/plain": [
       "<matplotlib.figure.Figure at 0x7f8190de4f98>"
      ]
     },
     "metadata": {},
     "output_type": "display_data"
    }
   ],
   "source": [
    "df = pd.DataFrame(dataset)\n",
    "df.plot.hist()"
   ]
  },
  {
   "cell_type": "code",
   "execution_count": 8,
   "metadata": {},
   "outputs": [
    {
     "data": {
      "text/plain": [
       "<matplotlib.axes._subplots.AxesSubplot at 0x7f8190cceef0>"
      ]
     },
     "execution_count": 8,
     "metadata": {},
     "output_type": "execute_result"
    },
    {
     "data": {
      "image/png": "[encoded data removed]",
      "text/html": [
       "\n",
       "\n",
       "<style>\n",
       "\n",
       "</style>\n",
       "\n",
       "<div id=\"fig_el671401944579968167358654976\"></div>\n",
       "<script>\n",
       "function mpld3_load_lib(url, callback){\n",
       "  var s = document.createElement('script');\n",
       "  s.src = url;\n",
       "  s.async = true;\n",
       "  s.onreadystatechange = s.onload = callback;\n",
       "  s.onerror = function(){console.warn(\"failed to load library \" + url);};\n",
       "  document.getElementsByTagName(\"head\")[0].appendChild(s);\n",
       "}\n",
       "\n",
       "if(typeof(mpld3) !== \"undefined\" && mpld3._mpld3IsLoaded){\n",
       "   // already loaded: just create the figure\n",
       "   !function(mpld3){\n",
       "       \n",
       "       mpld3.draw_figure(\"fig_el671401944579968167358654976\", {\"width\": 432.0, \"height\": 288.0, \"axes\": [{\"bbox\": [0.08, 0.125, 0.87, 0.755], \"xlim\": [0.5, 1.5], \"ylim\": [-0.21650000000000005, 4.9865], \"xdomain\": [0.5, 1.5], \"ydomain\": [-0.21650000000000005, 4.9865], \"xscale\": \"linear\", \"yscale\": \"linear\", \"axes\": [{\"position\": \"bottom\", \"nticks\": 1, \"tickvalues\": [1], \"tickformat\": [\"0\"], \"scale\": \"linear\", \"fontsize\": 10.0, \"grid\": {\"gridOn\": true, \"color\": \"#CBCBCB\", \"dasharray\": \"none\", \"alpha\": 1.0}, \"visible\": true}, {\"position\": \"left\", \"nticks\": 7, \"tickvalues\": null, \"tickformat\": null, \"scale\": \"linear\", \"fontsize\": 10.0, \"grid\": {\"gridOn\": true, \"color\": \"#CBCBCB\", \"dasharray\": \"none\", \"alpha\": 1.0}, \"visible\": true}], \"axesbg\": \"#F0F0F0\", \"axesbgalpha\": null, \"zoomable\": true, \"id\": \"el67140194456858352\", \"lines\": [{\"data\": \"data01\", \"xindex\": 0, \"yindex\": 1, \"coordinates\": \"data\", \"id\": \"el67140194455716976\", \"color\": \"#008FD5\", \"linewidth\": 1.0, \"dasharray\": \"none\", \"alpha\": 1, \"zorder\": 2, \"drawstyle\": \"default\"}, {\"data\": \"data02\", \"xindex\": 0, \"yindex\": 1, \"coordinates\": \"data\", \"id\": \"el67140194455719440\", \"color\": \"#008FD5\", \"linewidth\": 1.0, \"dasharray\": \"none\", \"alpha\": 1, \"zorder\": 2, \"drawstyle\": \"default\"}, {\"data\": \"data02\", \"xindex\": 0, \"yindex\": 2, \"coordinates\": \"data\", \"id\": \"el67140194455242400\", \"color\": \"#008FD5\", \"linewidth\": 1.0, \"dasharray\": \"none\", \"alpha\": 1, \"zorder\": 2, \"drawstyle\": \"default\"}, {\"data\": \"data03\", \"xindex\": 0, \"yindex\": 1, \"coordinates\": \"data\", \"id\": \"el67140194455244528\", \"color\": \"#000000\", \"linewidth\": 1.0, \"dasharray\": \"none\", \"alpha\": 1, \"zorder\": 2, \"drawstyle\": \"default\"}, {\"data\": \"data03\", \"xindex\": 0, \"yindex\": 2, \"coordinates\": \"data\", \"id\": \"el67140194455271296\", \"color\": \"#000000\", \"linewidth\": 1.0, \"dasharray\": \"none\", \"alpha\": 1, \"zorder\": 2, \"drawstyle\": \"default\"}, {\"data\": \"data04\", \"xindex\": 0, \"yindex\": 1, \"coordinates\": \"data\", \"id\": \"el67140194455271800\", \"color\": \"#E5AE38\", \"linewidth\": 1.0, \"dasharray\": \"none\", \"alpha\": 1, \"zorder\": 2.1, \"drawstyle\": \"default\"}], \"paths\": [], \"markers\": [{\"data\": \"data05\", \"xindex\": 0, \"yindex\": 1, \"coordinates\": \"data\", \"id\": \"el67140194455300192pts\", \"facecolor\": \"none\", \"edgecolor\": \"#000000\", \"edgewidth\": 1.0, \"alpha\": 1, \"zorder\": 2, \"markerpath\": [[[0.0, 3.0], [0.7956093000000001, 3.0], [1.5587396123545605, 2.683901074764725], [2.121320343559643, 2.121320343559643], [2.683901074764725, 1.5587396123545605], [3.0, 0.7956093000000001], [3.0, 0.0], [3.0, -0.7956093000000001], [2.683901074764725, -1.5587396123545605], [2.121320343559643, -2.121320343559643], [1.5587396123545605, -2.683901074764725], [0.7956093000000001, -3.0], [0.0, -3.0], [-0.7956093000000001, -3.0], [-1.5587396123545605, -2.683901074764725], [-2.121320343559643, -2.121320343559643], [-2.683901074764725, -1.5587396123545605], [-3.0, -0.7956093000000001], [-3.0, 0.0], [-3.0, 0.7956093000000001], [-2.683901074764725, 1.5587396123545605], [-2.121320343559643, 2.121320343559643], [-1.5587396123545605, 2.683901074764725], [-0.7956093000000001, 3.0], [0.0, 3.0]], [\"M\", \"C\", \"C\", \"C\", \"C\", \"C\", \"C\", \"C\", \"C\", \"Z\"]]}], \"texts\": [], \"collections\": [], \"images\": [], \"sharex\": [], \"sharey\": []}], \"data\": {\"data01\": [[0.925, 0.82], [1.075, 0.82], [1.075, 2.16], [0.925, 2.16], [0.925, 0.82]], \"data02\": [[1.0, 0.82, 2.16], [1.0, 0.02, 3.76]], \"data03\": [[0.9625, 0.02, 3.76], [1.0375, 0.02, 3.76]], \"data04\": [[0.925, 1.38], [1.075, 1.38]], \"data05\": [[1.0, 4.75]]}, \"id\": \"el67140194457996816\", \"plugins\": [{\"type\": \"reset\"}, {\"type\": \"zoom\", \"button\": true, \"enabled\": false}, {\"type\": \"boxzoom\", \"button\": true, \"enabled\": false}]});\n",
       "   }(mpld3);\n",
       "}else if(typeof define === \"function\" && define.amd){\n",
       "   // require.js is available: use it to load d3/mpld3\n",
       "   require.config({paths: {d3: \"https://mpld3.github.io/js/d3.v3.min\"}});\n",
       "   require([\"d3\"], function(d3){\n",
       "      window.d3 = d3;\n",
       "      mpld3_load_lib(\"https://mpld3.github.io/js/mpld3.v0.3.js\", function(){\n",
       "         \n",
       "         mpld3.draw_figure(\"fig_el671401944579968167358654976\", {\"width\": 432.0, \"height\": 288.0, \"axes\": [{\"bbox\": [0.08, 0.125, 0.87, 0.755], \"xlim\": [0.5, 1.5], \"ylim\": [-0.21650000000000005, 4.9865], \"xdomain\": [0.5, 1.5], \"ydomain\": [-0.21650000000000005, 4.9865], \"xscale\": \"linear\", \"yscale\": \"linear\", \"axes\": [{\"position\": \"bottom\", \"nticks\": 1, \"tickvalues\": [1], \"tickformat\": [\"0\"], \"scale\": \"linear\", \"fontsize\": 10.0, \"grid\": {\"gridOn\": true, \"color\": \"#CBCBCB\", \"dasharray\": \"none\", \"alpha\": 1.0}, \"visible\": true}, {\"position\": \"left\", \"nticks\": 7, \"tickvalues\": null, \"tickformat\": null, \"scale\": \"linear\", \"fontsize\": 10.0, \"grid\": {\"gridOn\": true, \"color\": \"#CBCBCB\", \"dasharray\": \"none\", \"alpha\": 1.0}, \"visible\": true}], \"axesbg\": \"#F0F0F0\", \"axesbgalpha\": null, \"zoomable\": true, \"id\": \"el67140194456858352\", \"lines\": [{\"data\": \"data01\", \"xindex\": 0, \"yindex\": 1, \"coordinates\": \"data\", \"id\": \"el67140194455716976\", \"color\": \"#008FD5\", \"linewidth\": 1.0, \"dasharray\": \"none\", \"alpha\": 1, \"zorder\": 2, \"drawstyle\": \"default\"}, {\"data\": \"data02\", \"xindex\": 0, \"yindex\": 1, \"coordinates\": \"data\", \"id\": \"el67140194455719440\", \"color\": \"#008FD5\", \"linewidth\": 1.0, \"dasharray\": \"none\", \"alpha\": 1, \"zorder\": 2, \"drawstyle\": \"default\"}, {\"data\": \"data02\", \"xindex\": 0, \"yindex\": 2, \"coordinates\": \"data\", \"id\": \"el67140194455242400\", \"color\": \"#008FD5\", \"linewidth\": 1.0, \"dasharray\": \"none\", \"alpha\": 1, \"zorder\": 2, \"drawstyle\": \"default\"}, {\"data\": \"data03\", \"xindex\": 0, \"yindex\": 1, \"coordinates\": \"data\", \"id\": \"el67140194455244528\", \"color\": \"#000000\", \"linewidth\": 1.0, \"dasharray\": \"none\", \"alpha\": 1, \"zorder\": 2, \"drawstyle\": \"default\"}, {\"data\": \"data03\", \"xindex\": 0, \"yindex\": 2, \"coordinates\": \"data\", \"id\": \"el67140194455271296\", \"color\": \"#000000\", \"linewidth\": 1.0, \"dasharray\": \"none\", \"alpha\": 1, \"zorder\": 2, \"drawstyle\": \"default\"}, {\"data\": \"data04\", \"xindex\": 0, \"yindex\": 1, \"coordinates\": \"data\", \"id\": \"el67140194455271800\", \"color\": \"#E5AE38\", \"linewidth\": 1.0, \"dasharray\": \"none\", \"alpha\": 1, \"zorder\": 2.1, \"drawstyle\": \"default\"}], \"paths\": [], \"markers\": [{\"data\": \"data05\", \"xindex\": 0, \"yindex\": 1, \"coordinates\": \"data\", \"id\": \"el67140194455300192pts\", \"facecolor\": \"none\", \"edgecolor\": \"#000000\", \"edgewidth\": 1.0, \"alpha\": 1, \"zorder\": 2, \"markerpath\": [[[0.0, 3.0], [0.7956093000000001, 3.0], [1.5587396123545605, 2.683901074764725], [2.121320343559643, 2.121320343559643], [2.683901074764725, 1.5587396123545605], [3.0, 0.7956093000000001], [3.0, 0.0], [3.0, -0.7956093000000001], [2.683901074764725, -1.5587396123545605], [2.121320343559643, -2.121320343559643], [1.5587396123545605, -2.683901074764725], [0.7956093000000001, -3.0], [0.0, -3.0], [-0.7956093000000001, -3.0], [-1.5587396123545605, -2.683901074764725], [-2.121320343559643, -2.121320343559643], [-2.683901074764725, -1.5587396123545605], [-3.0, -0.7956093000000001], [-3.0, 0.0], [-3.0, 0.7956093000000001], [-2.683901074764725, 1.5587396123545605], [-2.121320343559643, 2.121320343559643], [-1.5587396123545605, 2.683901074764725], [-0.7956093000000001, 3.0], [0.0, 3.0]], [\"M\", \"C\", \"C\", \"C\", \"C\", \"C\", \"C\", \"C\", \"C\", \"Z\"]]}], \"texts\": [], \"collections\": [], \"images\": [], \"sharex\": [], \"sharey\": []}], \"data\": {\"data01\": [[0.925, 0.82], [1.075, 0.82], [1.075, 2.16], [0.925, 2.16], [0.925, 0.82]], \"data02\": [[1.0, 0.82, 2.16], [1.0, 0.02, 3.76]], \"data03\": [[0.9625, 0.02, 3.76], [1.0375, 0.02, 3.76]], \"data04\": [[0.925, 1.38], [1.075, 1.38]], \"data05\": [[1.0, 4.75]]}, \"id\": \"el67140194457996816\", \"plugins\": [{\"type\": \"reset\"}, {\"type\": \"zoom\", \"button\": true, \"enabled\": false}, {\"type\": \"boxzoom\", \"button\": true, \"enabled\": false}]});\n",
       "      });\n",
       "    });\n",
       "}else{\n",
       "    // require.js not available: dynamically load d3 & mpld3\n",
       "    mpld3_load_lib(\"https://mpld3.github.io/js/d3.v3.min.js\", function(){\n",
       "         mpld3_load_lib(\"https://mpld3.github.io/js/mpld3.v0.3.js\", function(){\n",
       "                 \n",
       "                 mpld3.draw_figure(\"fig_el671401944579968167358654976\", {\"width\": 432.0, \"height\": 288.0, \"axes\": [{\"bbox\": [0.08, 0.125, 0.87, 0.755], \"xlim\": [0.5, 1.5], \"ylim\": [-0.21650000000000005, 4.9865], \"xdomain\": [0.5, 1.5], \"ydomain\": [-0.21650000000000005, 4.9865], \"xscale\": \"linear\", \"yscale\": \"linear\", \"axes\": [{\"position\": \"bottom\", \"nticks\": 1, \"tickvalues\": [1], \"tickformat\": [\"0\"], \"scale\": \"linear\", \"fontsize\": 10.0, \"grid\": {\"gridOn\": true, \"color\": \"#CBCBCB\", \"dasharray\": \"none\", \"alpha\": 1.0}, \"visible\": true}, {\"position\": \"left\", \"nticks\": 7, \"tickvalues\": null, \"tickformat\": null, \"scale\": \"linear\", \"fontsize\": 10.0, \"grid\": {\"gridOn\": true, \"color\": \"#CBCBCB\", \"dasharray\": \"none\", \"alpha\": 1.0}, \"visible\": true}], \"axesbg\": \"#F0F0F0\", \"axesbgalpha\": null, \"zoomable\": true, \"id\": \"el67140194456858352\", \"lines\": [{\"data\": \"data01\", \"xindex\": 0, \"yindex\": 1, \"coordinates\": \"data\", \"id\": \"el67140194455716976\", \"color\": \"#008FD5\", \"linewidth\": 1.0, \"dasharray\": \"none\", \"alpha\": 1, \"zorder\": 2, \"drawstyle\": \"default\"}, {\"data\": \"data02\", \"xindex\": 0, \"yindex\": 1, \"coordinates\": \"data\", \"id\": \"el67140194455719440\", \"color\": \"#008FD5\", \"linewidth\": 1.0, \"dasharray\": \"none\", \"alpha\": 1, \"zorder\": 2, \"drawstyle\": \"default\"}, {\"data\": \"data02\", \"xindex\": 0, \"yindex\": 2, \"coordinates\": \"data\", \"id\": \"el67140194455242400\", \"color\": \"#008FD5\", \"linewidth\": 1.0, \"dasharray\": \"none\", \"alpha\": 1, \"zorder\": 2, \"drawstyle\": \"default\"}, {\"data\": \"data03\", \"xindex\": 0, \"yindex\": 1, \"coordinates\": \"data\", \"id\": \"el67140194455244528\", \"color\": \"#000000\", \"linewidth\": 1.0, \"dasharray\": \"none\", \"alpha\": 1, \"zorder\": 2, \"drawstyle\": \"default\"}, {\"data\": \"data03\", \"xindex\": 0, \"yindex\": 2, \"coordinates\": \"data\", \"id\": \"el67140194455271296\", \"color\": \"#000000\", \"linewidth\": 1.0, \"dasharray\": \"none\", \"alpha\": 1, \"zorder\": 2, \"drawstyle\": \"default\"}, {\"data\": \"data04\", \"xindex\": 0, \"yindex\": 1, \"coordinates\": \"data\", \"id\": \"el67140194455271800\", \"color\": \"#E5AE38\", \"linewidth\": 1.0, \"dasharray\": \"none\", \"alpha\": 1, \"zorder\": 2.1, \"drawstyle\": \"default\"}], \"paths\": [], \"markers\": [{\"data\": \"data05\", \"xindex\": 0, \"yindex\": 1, \"coordinates\": \"data\", \"id\": \"el67140194455300192pts\", \"facecolor\": \"none\", \"edgecolor\": \"#000000\", \"edgewidth\": 1.0, \"alpha\": 1, \"zorder\": 2, \"markerpath\": [[[0.0, 3.0], [0.7956093000000001, 3.0], [1.5587396123545605, 2.683901074764725], [2.121320343559643, 2.121320343559643], [2.683901074764725, 1.5587396123545605], [3.0, 0.7956093000000001], [3.0, 0.0], [3.0, -0.7956093000000001], [2.683901074764725, -1.5587396123545605], [2.121320343559643, -2.121320343559643], [1.5587396123545605, -2.683901074764725], [0.7956093000000001, -3.0], [0.0, -3.0], [-0.7956093000000001, -3.0], [-1.5587396123545605, -2.683901074764725], [-2.121320343559643, -2.121320343559643], [-2.683901074764725, -1.5587396123545605], [-3.0, -0.7956093000000001], [-3.0, 0.0], [-3.0, 0.7956093000000001], [-2.683901074764725, 1.5587396123545605], [-2.121320343559643, 2.121320343559643], [-1.5587396123545605, 2.683901074764725], [-0.7956093000000001, 3.0], [0.0, 3.0]], [\"M\", \"C\", \"C\", \"C\", \"C\", \"C\", \"C\", \"C\", \"C\", \"Z\"]]}], \"texts\": [], \"collections\": [], \"images\": [], \"sharex\": [], \"sharey\": []}], \"data\": {\"data01\": [[0.925, 0.82], [1.075, 0.82], [1.075, 2.16], [0.925, 2.16], [0.925, 0.82]], \"data02\": [[1.0, 0.82, 2.16], [1.0, 0.02, 3.76]], \"data03\": [[0.9625, 0.02, 3.76], [1.0375, 0.02, 3.76]], \"data04\": [[0.925, 1.38], [1.075, 1.38]], \"data05\": [[1.0, 4.75]]}, \"id\": \"el67140194457996816\", \"plugins\": [{\"type\": \"reset\"}, {\"type\": \"zoom\", \"button\": true, \"enabled\": false}, {\"type\": \"boxzoom\", \"button\": true, \"enabled\": false}]});\n",
       "            })\n",
       "         });\n",
       "}\n",
       "</script>"
      ],
      "text/plain": [
       "<matplotlib.figure.Figure at 0x7f8190de4e10>"
      ]
     },
     "metadata": {},
     "output_type": "display_data"
    }
   ],
   "source": [
    "df.plot.box()"
   ]
  },
  {
   "cell_type": "code",
   "execution_count": null,
   "metadata": {},
   "outputs": [],
   "source": []
  }
 ],
 "metadata": {
  "kernelspec": {
   "display_name": "Python 3",
   "language": "python",
   "name": "python3"
  },
  "language_info": {
   "codemirror_mode": {
    "name": "ipython",
    "version": 3
   },
   "file_extension": ".py",
   "mimetype": "text/x-python",
   "name": "python",
   "nbconvert_exporter": "python",
   "pygments_lexer": "ipython3",
   "version": "3.6.2"
  }
 },
 "nbformat": 4,
 "nbformat_minor": 2
}
