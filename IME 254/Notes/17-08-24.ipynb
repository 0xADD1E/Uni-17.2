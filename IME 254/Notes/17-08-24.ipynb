{
 "cells": [
  {
   "cell_type": "code",
   "execution_count": 1,
   "metadata": {},
   "outputs": [
    {
     "data": {
      "text/plain": [
       "0    1.01207\n",
       "dtype: float64"
      ]
     },
     "execution_count": 1,
     "metadata": {},
     "output_type": "execute_result"
    },
    {
     "data": {
      "image/png": "[encoded data removed]",
      "text/plain": [
       "<matplotlib.figure.Figure at 0x7ff03d6a7748>"
      ]
     },
     "metadata": {},
     "output_type": "display_data"
    }
   ],
   "source": [
    "import math\n",
    "import pandas as pd\n",
    "import mpld3\n",
    "from mpld3 import plugins\n",
    "mpld3.enable_notebook()\n",
    "%matplotlib inline\n",
    "\n",
    "dataset = [17, 18, 19, 23, 24, 26, 26, 28, 32, 33, 33, 34, 41, 42, 54]\n",
    "dataset = [0.1 * x for x in dataset]\n",
    "\n",
    "df = pd.DataFrame(dataset)\n",
    "df.plot.hist()\n",
    "df.std()"
   ]
  },
  {
   "cell_type": "code",
   "execution_count": 2,
   "metadata": {},
   "outputs": [
    {
     "data": {
      "text/plain": [
       "3.0000000000000004"
      ]
     },
     "execution_count": 2,
     "metadata": {},
     "output_type": "execute_result"
    }
   ],
   "source": [
    "# Mean\n",
    "sum(dataset)/len(dataset)"
   ]
  },
  {
   "cell_type": "code",
   "execution_count": 3,
   "metadata": {},
   "outputs": [
    {
     "data": {
      "text/plain": [
       "[1.6900000000000006,\n",
       " 1.440000000000001,\n",
       " 1.2100000000000006,\n",
       " 0.49000000000000027,\n",
       " 0.3600000000000001,\n",
       " 0.16000000000000028,\n",
       " 0.16000000000000028,\n",
       " 0.04000000000000007,\n",
       " 0.0399999999999999,\n",
       " 0.0899999999999999,\n",
       " 0.0899999999999999,\n",
       " 0.15999999999999992,\n",
       " 1.2100000000000002,\n",
       " 1.4399999999999993,\n",
       " 5.76]"
      ]
     },
     "execution_count": 3,
     "metadata": {},
     "output_type": "execute_result"
    }
   ],
   "source": [
    "# Compute diffs\n",
    "[(a-Out[2])**2 for a in dataset]"
   ]
  },
  {
   "cell_type": "code",
   "execution_count": 4,
   "metadata": {},
   "outputs": [
    {
     "data": {
      "text/plain": [
       "1.0120700145176293"
      ]
     },
     "execution_count": 4,
     "metadata": {},
     "output_type": "execute_result"
    }
   ],
   "source": [
    "# And get the std dev\n",
    "math.sqrt(sum(Out[3]) / (len(dataset)-1))"
   ]
  }
 ],
 "metadata": {
  "kernelspec": {
   "display_name": "Python 3",
   "language": "python",
   "name": "python3"
  },
  "language_info": {
   "codemirror_mode": {
    "name": "ipython",
    "version": 3
   },
   "file_extension": ".py",
   "mimetype": "text/x-python",
   "name": "python",
   "nbconvert_exporter": "python",
   "pygments_lexer": "ipython3",
   "version": "3.6.2"
  }
 },
 "nbformat": 4,
 "nbformat_minor": 2
}
