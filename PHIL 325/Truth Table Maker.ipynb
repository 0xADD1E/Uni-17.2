{
 "cells": [
  {
   "cell_type": "code",
   "execution_count": 1,
   "metadata": {
    "collapsed": true
   },
   "outputs": [],
   "source": [
    "def deconstruct(symbol):\n",
    "    returns = []\n",
    "    for i in symbol.args:\n",
    "        returns += deconstruct(i)\n",
    "    if len(symbol.args):\n",
    "        returns.append(symbol)\n",
    "    return returns\n",
    "def prettyPrintTable(tab):\n",
    "    from IPython.display import display, Markdown\n",
    "    display(Markdown(mdPrintTable(tab)))\n",
    "def mdPrintTable(tab):\n",
    "    mdString = ''\n",
    "    for i in tab[0]:\n",
    "        mdString += '|'+str(i)\n",
    "    mdString +='|\\n'\n",
    "    for i in tab[0]:\n",
    "        mdString += '|:---:'\n",
    "    mdString += '|\\n'\n",
    "    for i in tab[1:]:\n",
    "        for j in i:\n",
    "            mdString += '|'+str(j)\n",
    "        mdString += '|\\n'\n",
    "    return mdString\n",
    "def genTruthTable (q):\n",
    "    from sympy.logic.boolalg import truth_table\n",
    "    lst = [[]]\n",
    "    lst[0] = []\n",
    "\n",
    "    deconstruction = deconstruct(q)\n",
    "    symbols = deconstruction[-1].free_symbols\n",
    "    for x in symbols:\n",
    "        lst[0].append(x)\n",
    "    for x in deconstruction:\n",
    "        lst[0].append(sp.pretty(x))\n",
    "\n",
    "    tts = []\n",
    "    for vars, out in truth_table(deconstruction[-1], symbols):\n",
    "        varLst = []\n",
    "        for var in vars:\n",
    "            varLst.append(str(var).replace('0', 'F').replace('1', 'T'))\n",
    "        tts.append(varLst)\n",
    "    for part in deconstruction:\n",
    "        for num, tt in enumerate(truth_table(part, symbols)):\n",
    "            tts[num].append(str(tt[1]).replace('True', 'T').replace('False', 'F'))\n",
    "    return lst+tts"
   ]
  },
  {
   "cell_type": "code",
   "execution_count": 2,
   "metadata": {},
   "outputs": [],
   "source": [
    "import sympy as sp\n",
    "q = sp.sympify('(((a|b) & (a|c)) >> ~(b&c))')\n",
    "a = sp.sympify('A>>(H&J)')\n",
    "b = sp.Equivalent(sp.sympify('J'), sp.sympify('H'))\n",
    "c = sp.sympify('~J')\n",
    "d = sp.sympify('~A')\n",
    "\n",
    "e = sp.And(a,b)\n",
    "f = sp.And(e,c)\n",
    "g = sp.And(f, d)\n",
    "arg = sp.Implies(g, d)"
   ]
  },
  {
   "cell_type": "code",
   "execution_count": 3,
   "metadata": {},
   "outputs": [
    {
     "data": {
      "text/markdown": [
       "|H|J|A|¬A|¬J|H ≡ J|H ∧ J|A → (H ∧ J)|(H ≡ J) ∧ (A → (H ∧ J)) ∧ ¬A ∧ ¬J|¬A|((H ≡ J) ∧ (A → (H ∧ J)) ∧ ¬A ∧ ¬J) → ¬A|\n",
       "|:---:|:---:|:---:|:---:|:---:|:---:|:---:|:---:|:---:|:---:|:---:|\n",
       "|F|F|F|T|T|T|F|T|T|T|T|\n",
       "|F|F|T|F|T|T|F|F|F|F|T|\n",
       "|F|T|F|T|F|F|F|T|F|T|T|\n",
       "|F|T|T|F|F|F|F|F|F|F|T|\n",
       "|T|F|F|T|T|F|F|T|F|T|T|\n",
       "|T|F|T|F|T|F|F|F|F|F|T|\n",
       "|T|T|F|T|F|T|T|T|F|T|T|\n",
       "|T|T|T|F|F|T|T|T|F|F|T|\n"
      ],
      "text/plain": [
       "<IPython.core.display.Markdown object>"
      ]
     },
     "metadata": {},
     "output_type": "display_data"
    }
   ],
   "source": [
    "prettyPrintTable(genTruthTable(arg))"
   ]
  },
  {
   "cell_type": "code",
   "execution_count": null,
   "metadata": {
    "collapsed": true
   },
   "outputs": [],
   "source": []
  }
 ],
 "metadata": {
  "kernelspec": {
   "display_name": "Python 3",
   "language": "python",
   "name": "python3"
  },
  "language_info": {
   "codemirror_mode": {
    "name": "ipython",
    "version": 3
   },
   "file_extension": ".py",
   "mimetype": "text/x-python",
   "name": "python",
   "nbconvert_exporter": "python",
   "pygments_lexer": "ipython3",
   "version": "3.6.2"
  }
 },
 "nbformat": 4,
 "nbformat_minor": 2
}
