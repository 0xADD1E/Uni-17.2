{
 "cells": [
  {
   "cell_type": "code",
   "execution_count": 1,
   "metadata": {
    "collapsed": true,
    "hide_input": true
   },
   "outputs": [],
   "source": [
    "def deconstruct(symbol):\n",
    "    returns = []\n",
    "    for i in symbol.args:\n",
    "        returns += deconstruct(i)\n",
    "    if len(symbol.args):\n",
    "        returns.append(symbol)\n",
    "    return returns\n",
    "def prettyPrintTable(tab):\n",
    "    from IPython.display import display, Markdown\n",
    "    display(Markdown(mdPrintTable(tab)))\n",
    "def mdPrintTable(tab):\n",
    "    mdString = ''\n",
    "    for i in tab[0]:\n",
    "        mdString += '|'+str(i)\n",
    "    mdString +='|\\n'\n",
    "    for i in tab[0]:\n",
    "        mdString += '|:---:'\n",
    "    mdString += '|\\n'\n",
    "    for i in tab[1:]:\n",
    "        for j in i:\n",
    "            mdString += '|'+str(j)\n",
    "        mdString += '|\\n'\n",
    "    return mdString\n",
    "def genTruthTable (q):\n",
    "    from sympy.logic.boolalg import truth_table\n",
    "    lst = [[]]\n",
    "    lst[0] = []\n",
    "\n",
    "    deconstruction = deconstruct(q)\n",
    "    symbols = deconstruction[-1].free_symbols\n",
    "    for x in symbols:\n",
    "        lst[0].append(x)\n",
    "    for x in deconstruction:\n",
    "        lst[0].append(sp.pretty(x))\n",
    "\n",
    "    tts = []\n",
    "    for vars, out in truth_table(deconstruction[-1], symbols):\n",
    "        varLst = []\n",
    "        for var in vars:\n",
    "            varLst.append(str(var).replace('0', 'F').replace('1', 'T'))\n",
    "        tts.append(varLst)\n",
    "    for part in deconstruction:\n",
    "        for num, tt in enumerate(truth_table(part, symbols)):\n",
    "            tts[num].append(str(tt[1]).replace('True', 'T').replace('False', 'F'))\n",
    "    return lst+tts"
   ]
  },
  {
   "cell_type": "code",
   "execution_count": 2,
   "metadata": {
    "collapsed": true
   },
   "outputs": [],
   "source": [
    "import sympy as sp"
   ]
  },
  {
   "cell_type": "code",
   "execution_count": 6,
   "metadata": {},
   "outputs": [
    {
     "name": "stdout",
     "output_type": "stream",
     "text": [
      "|D|B|¬B|B ∨ D|(B ∨ D) → D|¬B → ((B ∨ D) → D)|\n",
      "|:---:|:---:|:---:|:---:|:---:|:---:|\n",
      "|F|F|T|F|T|T|\n",
      "|F|T|F|T|F|T|\n",
      "|T|F|T|T|T|T|\n",
      "|T|T|F|T|T|T|\n",
      "\n"
     ]
    }
   ],
   "source": [
    "q321j = sp.sympify('~B>>((B|D)>>D)')\n",
    "print(mdPrintTable(genTruthTable(q321j)))"
   ]
  },
  {
   "cell_type": "code",
   "execution_count": 8,
   "metadata": {},
   "outputs": [
    {
     "name": "stdout",
     "output_type": "stream",
     "text": [
      "|D|B|C|B ∨ D|¬(B ∨ D)|C → B|¬(B ∨ D) → (C → B)|\n",
      "|:---:|:---:|:---:|:---:|:---:|:---:|:---:|\n",
      "|F|F|F|F|T|T|T|\n",
      "|F|F|T|F|T|F|F|\n",
      "|F|T|F|T|F|T|T|\n",
      "|F|T|T|T|F|T|T|\n",
      "|T|F|F|T|F|T|T|\n",
      "|T|F|T|T|F|F|T|\n",
      "|T|T|F|T|F|T|T|\n",
      "|T|T|T|T|F|T|T|\n",
      "\n",
      "|D|B|C|B ∧ D|C → (B ∧ D)|\n",
      "|:---:|:---:|:---:|:---:|:---:|\n",
      "|F|F|F|F|T|\n",
      "|F|F|T|F|F|\n",
      "|F|T|F|F|T|\n",
      "|F|T|T|F|F|\n",
      "|T|F|F|F|T|\n",
      "|T|F|T|F|F|\n",
      "|T|T|F|T|T|\n",
      "|T|T|T|T|T|\n",
      "\n"
     ]
    }
   ],
   "source": [
    "q331ha = sp.sympify('~(D|B)>>(C>>B)')\n",
    "q331hb = sp.sympify('C >> (D & B)')\n",
    "print(mdPrintTable(genTruthTable(q331ha)))\n",
    "print(mdPrintTable(genTruthTable(q331hb)))"
   ]
  },
  {
   "cell_type": "code",
   "execution_count": 11,
   "metadata": {},
   "outputs": [
    {
     "name": "stdout",
     "output_type": "stream",
     "text": [
      "|B|R|B ∨ R|B ∧ R|¬(B ∧ R)|¬(B ∧ R) ∧ (B ∨ R)|\n",
      "|:---:|:---:|:---:|:---:|:---:|:---:|\n",
      "|F|F|F|F|T|F|\n",
      "|F|T|T|F|T|T|\n",
      "|T|F|T|F|T|T|\n",
      "|T|T|T|T|F|F|\n",
      "\n",
      "|R|B|¬B|R → ¬B|¬B|¬B → R|(R → ¬B) ∧ (¬B → R)|\n",
      "|:---:|:---:|:---:|:---:|:---:|:---:|:---:|\n",
      "|F|F|T|T|T|F|F|\n",
      "|F|T|F|T|F|T|T|\n",
      "|T|F|T|T|T|T|T|\n",
      "|T|T|F|F|F|T|F|\n",
      "\n"
     ]
    }
   ],
   "source": [
    "q333fa = sp.sympify('(B | R) & ~(B & R)')\n",
    "q333fb = sp.sympify('(R >> ~B) & (~B >> R)')\n",
    "print(mdPrintTable(genTruthTable(q333fa)))\n",
    "print(mdPrintTable(genTruthTable(q333fb)))"
   ]
  },
  {
   "cell_type": "code",
   "execution_count": 14,
   "metadata": {},
   "outputs": [
    {
     "name": "stdout",
     "output_type": "stream",
     "text": [
      "|Q|P|P ∧ Q|\n",
      "|:---:|:---:|:---:|\n",
      "|F|F|F|\n",
      "|F|T|F|\n",
      "|T|F|F|\n",
      "|T|T|T|\n",
      "\n",
      "|Q|P|P ≡ Q|\n",
      "|:---:|:---:|:---:|\n",
      "|F|F|T|\n",
      "|F|T|F|\n",
      "|T|F|F|\n",
      "|T|T|T|\n",
      "\n"
     ]
    }
   ],
   "source": [
    "q334ba = sp.sympify('P&Q')\n",
    "q334bb = sp.Equivalent(sp.sympify('P'), sp.sympify('Q'))\n",
    "print(mdPrintTable(genTruthTable(q334ba)))\n",
    "print(mdPrintTable(genTruthTable(q334bb)))"
   ]
  },
  {
   "cell_type": "code",
   "execution_count": 16,
   "metadata": {},
   "outputs": [
    {
     "name": "stdout",
     "output_type": "stream",
     "text": [
      "|U|W|H|H ∧ W|U ∨ (H ∧ W)|\n",
      "|:---:|:---:|:---:|:---:|:---:|\n",
      "|F|F|F|F|F|\n",
      "|F|F|T|F|F|\n",
      "|F|T|F|F|F|\n",
      "|F|T|T|T|T|\n",
      "|T|F|F|F|T|\n",
      "|T|F|T|F|T|\n",
      "|T|T|F|F|T|\n",
      "|T|T|T|T|T|\n",
      "\n",
      "|U|W|H|H ∨ U|W ≡ (H ∨ U)|\n",
      "|:---:|:---:|:---:|:---:|:---:|\n",
      "|F|F|F|F|T|\n",
      "|F|F|T|T|F|\n",
      "|F|T|F|F|F|\n",
      "|F|T|T|T|T|\n",
      "|T|F|F|T|F|\n",
      "|T|F|T|T|F|\n",
      "|T|T|F|T|T|\n",
      "|T|T|T|T|T|\n",
      "\n",
      "|H|¬H|H ∨ ¬H|\n",
      "|:---:|:---:|:---:|\n",
      "|F|T|T|\n",
      "|T|F|T|\n",
      "\n"
     ]
    }
   ],
   "source": [
    "q341fa = sp.sympify('U | (W & H)')\n",
    "q341fb = sp.Equivalent(sp.sympify('W'), sp.sympify('U | H'))\n",
    "q341fc = sp.sympify('H |  ~H')\n",
    "print(mdPrintTable(genTruthTable(q341fa)))\n",
    "print(mdPrintTable(genTruthTable(q341fb)))\n",
    "print(mdPrintTable(genTruthTable(q341fc)))"
   ]
  },
  {
   "cell_type": "code",
   "execution_count": null,
   "metadata": {
    "collapsed": true
   },
   "outputs": [],
   "source": []
  }
 ],
 "metadata": {
  "kernelspec": {
   "display_name": "Python 3",
   "language": "python",
   "name": "python3"
  },
  "language_info": {
   "codemirror_mode": {
    "name": "ipython",
    "version": 3
   },
   "file_extension": ".py",
   "mimetype": "text/x-python",
   "name": "python",
   "nbconvert_exporter": "python",
   "pygments_lexer": "ipython3",
   "version": "3.6.2"
  }
 },
 "nbformat": 4,
 "nbformat_minor": 2
}
